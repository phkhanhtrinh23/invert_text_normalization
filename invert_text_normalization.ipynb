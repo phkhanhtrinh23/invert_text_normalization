{
  "cells": [
    {
      "cell_type": "markdown",
      "metadata": {
        "id": "PXUna-k4vh7Y"
      },
      "source": [
        "# Vietnamese Inverse Text Normalization - asignment description\n",
        "\n",
        "Inverse text normalization (ITN) is the task that transforms spoken to written styles. It is particularly useful in automatic speech recognition (ASR) systems where proper names are often miss-recognized by their pronunciations instead of the written forms. By applying ITN, we can improve the readability of the ASR system’s output significantly. This dataset provides data for doing ITN task in the Vietnamese language.\n",
        "\n",
        "For example:\n",
        "\n",
        "| Spoken (src)                                           | Written (tgt)      | Types                      |\n",
        "|--------------------------------------------------|--------------|----------------------------|\n",
        "| tám giờ chín phút ngày ba tháng tư năm hai nghìn | 8h9 3/4/2000 | time and date              |\n",
        "| tám mét khối năm mươi ki lô gam                  | 8m3 50 kg    | number and unit of measure |\n",
        "| không chín sáu hai bảy bảy chín chín không bốn   | 0962779904   | phone number               |"
      ]
    },
    {
      "cell_type": "markdown",
      "metadata": {
        "id": "LABZdO0Ty8kk"
      },
      "source": [
        "## Dataset\n",
        "\n",
        "The ITN dataset has 3 splits: _train_, _validation_, and _test_. In _train_, _validation_ splits, the input (src) and their label (tgt) are provided.\n",
        "\n",
        "| Dataset Split | Number of Instances in Split |\n",
        "| ------------- |----------------------------- |\n",
        "| Train         | 500,000                      |\n",
        "| Validation    | 2,500                       |\n",
        "| Test          | 2,500                       |"
      ]
    },
    {
      "cell_type": "code",
      "execution_count": 2,
      "metadata": {
        "id": "NP01_xKZxeDz"
      },
      "outputs": [
        {
          "name": "stdout",
          "output_type": "stream",
          "text": [
            "Collecting datasets\n",
            "  Using cached datasets-2.4.0-py3-none-any.whl (365 kB)\n",
            "Collecting jiwer\n",
            "  Using cached jiwer-2.3.0-py3-none-any.whl (15 kB)\n",
            "Requirement already satisfied: pandas in /opt/miniconda3/envs/trinhpham/lib/python3.8/site-packages (from datasets) (1.4.3)\n",
            "Collecting fsspec[http]>=2021.11.1\n",
            "  Using cached fsspec-2022.7.1-py3-none-any.whl (141 kB)\n",
            "Requirement already satisfied: tqdm>=4.62.1 in /opt/miniconda3/envs/trinhpham/lib/python3.8/site-packages (from datasets) (4.64.0)\n",
            "Collecting multiprocess\n",
            "  Using cached multiprocess-0.70.13-py38-none-any.whl (131 kB)\n",
            "Collecting aiohttp\n",
            "  Using cached aiohttp-3.8.1-cp38-cp38-manylinux_2_5_x86_64.manylinux1_x86_64.manylinux_2_12_x86_64.manylinux2010_x86_64.whl (1.3 MB)\n",
            "Requirement already satisfied: packaging in /opt/miniconda3/envs/trinhpham/lib/python3.8/site-packages (from datasets) (21.3)\n",
            "Collecting pyarrow>=6.0.0\n",
            "  Using cached pyarrow-8.0.0-cp38-cp38-manylinux_2_17_x86_64.manylinux2014_x86_64.whl (29.4 MB)\n",
            "Requirement already satisfied: numpy>=1.17 in /opt/miniconda3/envs/trinhpham/lib/python3.8/site-packages (from datasets) (1.23.0)\n",
            "Collecting responses<0.19\n",
            "  Using cached responses-0.18.0-py3-none-any.whl (38 kB)\n",
            "Requirement already satisfied: requests>=2.19.0 in /opt/miniconda3/envs/trinhpham/lib/python3.8/site-packages (from datasets) (2.28.1)\n",
            "Collecting dill<0.3.6\n",
            "  Using cached dill-0.3.5.1-py2.py3-none-any.whl (95 kB)\n",
            "Collecting huggingface-hub<1.0.0,>=0.1.0\n",
            "  Using cached huggingface_hub-0.8.1-py3-none-any.whl (101 kB)\n",
            "Collecting xxhash\n",
            "  Using cached xxhash-3.0.0-cp38-cp38-manylinux_2_17_x86_64.manylinux2014_x86_64.whl (212 kB)\n",
            "Collecting python-Levenshtein==0.12.2\n",
            "  Using cached python_Levenshtein-0.12.2-cp38-cp38-linux_x86_64.whl\n",
            "Requirement already satisfied: setuptools in /opt/miniconda3/envs/trinhpham/lib/python3.8/site-packages (from python-Levenshtein==0.12.2->jiwer) (61.2.0)\n",
            "Collecting pyyaml>=5.1\n",
            "  Using cached PyYAML-6.0-cp38-cp38-manylinux_2_5_x86_64.manylinux1_x86_64.manylinux_2_12_x86_64.manylinux2010_x86_64.whl (701 kB)\n",
            "Requirement already satisfied: typing-extensions>=3.7.4.3 in /opt/miniconda3/envs/trinhpham/lib/python3.8/site-packages (from huggingface-hub<1.0.0,>=0.1.0->datasets) (4.3.0)\n",
            "Collecting filelock\n",
            "  Using cached filelock-3.7.1-py3-none-any.whl (10 kB)\n",
            "Requirement already satisfied: pyparsing!=3.0.5,>=2.0.2 in /opt/miniconda3/envs/trinhpham/lib/python3.8/site-packages (from packaging->datasets) (3.0.9)\n",
            "Requirement already satisfied: urllib3<1.27,>=1.21.1 in /opt/miniconda3/envs/trinhpham/lib/python3.8/site-packages (from requests>=2.19.0->datasets) (1.26.9)\n",
            "Requirement already satisfied: idna<4,>=2.5 in /opt/miniconda3/envs/trinhpham/lib/python3.8/site-packages (from requests>=2.19.0->datasets) (3.3)\n",
            "Requirement already satisfied: certifi>=2017.4.17 in /opt/miniconda3/envs/trinhpham/lib/python3.8/site-packages (from requests>=2.19.0->datasets) (2022.6.15)\n",
            "Requirement already satisfied: charset-normalizer<3,>=2 in /opt/miniconda3/envs/trinhpham/lib/python3.8/site-packages (from requests>=2.19.0->datasets) (2.1.0)\n",
            "Collecting async-timeout<5.0,>=4.0.0a3\n",
            "  Using cached async_timeout-4.0.2-py3-none-any.whl (5.8 kB)\n",
            "Collecting aiosignal>=1.1.2\n",
            "  Using cached aiosignal-1.2.0-py3-none-any.whl (8.2 kB)\n",
            "Collecting attrs>=17.3.0\n",
            "  Downloading attrs-22.1.0-py2.py3-none-any.whl (58 kB)\n",
            "\u001b[2K     \u001b[90m━━━━━━━━━━━━━━━━━━━━━━━━━━━━━━━━━━━━━━━━\u001b[0m \u001b[32m58.8/58.8 kB\u001b[0m \u001b[31m1.3 MB/s\u001b[0m eta \u001b[36m0:00:00\u001b[0ma \u001b[36m0:00:01\u001b[0m\n",
            "\u001b[?25hCollecting multidict<7.0,>=4.5\n",
            "  Using cached multidict-6.0.2-cp38-cp38-manylinux_2_17_x86_64.manylinux2014_x86_64.whl (121 kB)\n",
            "Collecting yarl<2.0,>=1.0\n",
            "  Downloading yarl-1.8.1-cp38-cp38-manylinux_2_17_x86_64.manylinux2014_x86_64.whl (262 kB)\n",
            "\u001b[2K     \u001b[90m━━━━━━━━━━━━━━━━━━━━━━━━━━━━━━━━━━━━━━━\u001b[0m \u001b[32m262.1/262.1 kB\u001b[0m \u001b[31m5.0 MB/s\u001b[0m eta \u001b[36m0:00:00\u001b[0ma \u001b[36m0:00:01\u001b[0m\n",
            "\u001b[?25hCollecting frozenlist>=1.1.1\n",
            "  Using cached frozenlist-1.3.0-cp38-cp38-manylinux_2_5_x86_64.manylinux1_x86_64.manylinux_2_17_x86_64.manylinux2014_x86_64.whl (158 kB)\n",
            "Requirement already satisfied: pytz>=2020.1 in /opt/miniconda3/envs/trinhpham/lib/python3.8/site-packages (from pandas->datasets) (2022.1)\n",
            "Requirement already satisfied: python-dateutil>=2.8.1 in /opt/miniconda3/envs/trinhpham/lib/python3.8/site-packages (from pandas->datasets) (2.8.2)\n",
            "Requirement already satisfied: six>=1.5 in /opt/miniconda3/envs/trinhpham/lib/python3.8/site-packages (from python-dateutil>=2.8.1->pandas->datasets) (1.16.0)\n",
            "Installing collected packages: xxhash, pyyaml, python-Levenshtein, pyarrow, multidict, fsspec, frozenlist, filelock, dill, attrs, async-timeout, yarl, responses, multiprocess, jiwer, huggingface-hub, aiosignal, aiohttp, datasets\n",
            "Successfully installed aiohttp-3.8.1 aiosignal-1.2.0 async-timeout-4.0.2 attrs-22.1.0 datasets-2.4.0 dill-0.3.5.1 filelock-3.7.1 frozenlist-1.3.0 fsspec-2022.7.1 huggingface-hub-0.8.1 jiwer-2.3.0 multidict-6.0.2 multiprocess-0.70.13 pyarrow-8.0.0 python-Levenshtein-0.12.2 pyyaml-6.0 responses-0.18.0 xxhash-3.0.0 yarl-1.8.1\n",
            "Note: you may need to restart the kernel to use updated packages.\n"
          ]
        }
      ],
      "source": [
        "%pip install datasets jiwer"
      ]
    },
    {
      "cell_type": "code",
      "execution_count": 1,
      "metadata": {
        "id": "pIXB2OeKvM98"
      },
      "outputs": [
        {
          "name": "stderr",
          "output_type": "stream",
          "text": [
            "/opt/miniconda3/envs/trinhpham/lib/python3.8/site-packages/tqdm/auto.py:22: TqdmWarning: IProgress not found. Please update jupyter and ipywidgets. See https://ipywidgets.readthedocs.io/en/stable/user_install.html\n",
            "  from .autonotebook import tqdm as notebook_tqdm\n"
          ]
        }
      ],
      "source": [
        "from datasets import load_dataset"
      ]
    },
    {
      "cell_type": "code",
      "execution_count": 2,
      "metadata": {
        "colab": {
          "base_uri": "https://localhost:8080/",
          "height": 354,
          "referenced_widgets": [
            "884817851e094390aeadaf13f2d757f1",
            "cebf4feeac664afdb088353424ec000b",
            "16f711aef2054a4fb8675040841d3cef",
            "c9e0e4c4ac124c16a182f90ab832bc66",
            "3152ce24c08a4c79a5733ff8aa8f670f",
            "c7d3ea09981f44d6a9f9d727e5171ff4",
            "4c3ec50b899d485397679d2410c94e17",
            "5765e12c51994ef88efe5a46317d2365",
            "4e20a569411642a6927fe9fc9c078965",
            "f5003a97602643a1905f51c9ccd1adbd",
            "1462007ea3b94877aceddbfaa05dd6e0"
          ]
        },
        "id": "wjOhahjUxmHU",
        "outputId": "6fd54dad-bde1-4e49-c17c-b588f7beda0a"
      },
      "outputs": [
        {
          "name": "stderr",
          "output_type": "stream",
          "text": [
            "Using custom data configuration VietAI--spoken_norm_assignment-ada0fdcdb6b08774\n",
            "Reusing dataset parquet (/home/ubuntu/.cache/huggingface/datasets/VietAI___parquet/VietAI--spoken_norm_assignment-ada0fdcdb6b08774/0.0.0/2a3b91fbd88a2c90d1dbbb32b460cf621d31bd5b05b934492fdef7d8d6f236ec)\n",
            "100%|██████████| 3/3 [00:00<00:00, 420.86it/s]\n"
          ]
        },
        {
          "data": {
            "text/plain": [
              "DatasetDict({\n",
              "    valid: Dataset({\n",
              "        features: ['src', 'tgt'],\n",
              "        num_rows: 2500\n",
              "    })\n",
              "    test: Dataset({\n",
              "        features: ['src', 'tgt'],\n",
              "        num_rows: 2500\n",
              "    })\n",
              "    train: Dataset({\n",
              "        features: ['src', 'tgt'],\n",
              "        num_rows: 500000\n",
              "    })\n",
              "})"
            ]
          },
          "execution_count": 2,
          "metadata": {},
          "output_type": "execute_result"
        }
      ],
      "source": [
        "norm_data = load_dataset('VietAI/spoken_norm_assignment')\n",
        "norm_data"
      ]
    },
    {
      "cell_type": "markdown",
      "metadata": {
        "id": "jeH1aSBq7HYi"
      },
      "source": [
        "#### Example train/valid\n",
        "\n",
        "In the _train_, _validation_ set, the input (src) and the output (tgt) are segmented and aligned."
      ]
    },
    {
      "cell_type": "code",
      "execution_count": 4,
      "metadata": {
        "colab": {
          "base_uri": "https://localhost:8080/"
        },
        "id": "_Y0W27t7yABF",
        "outputId": "040fdb57-51cc-462e-b773-16b212c07a92"
      },
      "outputs": [
        {
          "data": {
            "text/plain": [
              "[('máy', 'máy'),\n",
              " ('chỉ', 'chỉ'),\n",
              " ('được', 'được'),\n",
              " ('lưu', 'lưu'),\n",
              " ('thông', 'thông'),\n",
              " ('từ', 'từ'),\n",
              " ('sáu giờ', '6h'),\n",
              " ('đến', 'đến'),\n",
              " ('tháng chín', 'tháng 9'),\n",
              " ('các', 'các'),\n",
              " ('loại', 'loại'),\n",
              " ('ô', 'ô'),\n",
              " ('tô', 'tô'),\n",
              " ('qua', 'qua'),\n",
              " ('hầm', 'hầm'),\n",
              " ('cộng hai bẩy bốn ba bốn hai ba một sáu bẩy hai', '+27434231672'),\n",
              " ('phải', 'phải'),\n",
              " ('giữ', 'giữ'),\n",
              " ('khoảng', 'khoảng'),\n",
              " ('cách', 'cách'),\n",
              " ('ba nghìn ba trăm bẩy lăm phẩy ba trăm bốn mươi bảy oát giờ trên tấn',\n",
              "  '3375,347 wh/tấn'),\n",
              " ('chạy', 'chạy'),\n",
              " ('nhanh', 'nhanh'),\n",
              " ('nhất', 'nhất'),\n",
              " ('chín triệu ba mươi ngàn', '9.030.000'),\n",
              " ('km/giờ', 'km/giờ'),\n",
              " ('và', 'và'),\n",
              " ('chậm', 'chậm'),\n",
              " ('nhất', 'nhất'),\n",
              " ('là', 'là')]"
            ]
          },
          "execution_count": 4,
          "metadata": {},
          "output_type": "execute_result"
        }
      ],
      "source": [
        "sample_idx = 91201\n",
        "set_name = 'train'\n",
        "list(zip(norm_data[set_name][sample_idx]['src'][90: 120], norm_data[set_name][sample_idx]['tgt'][90: 120]))"
      ]
    },
    {
      "cell_type": "markdown",
      "metadata": {
        "id": "QH8fBBBM7RBk"
      },
      "source": [
        "#### Example test\n",
        "\n",
        " In the _test_ splits, only the input (src) is provided."
      ]
    },
    {
      "cell_type": "code",
      "execution_count": 5,
      "metadata": {
        "colab": {
          "base_uri": "https://localhost:8080/"
        },
        "id": "K_eD8q1xyDUP",
        "outputId": "08f96b89-5505-4553-c43b-ef5a1d2071e3"
      },
      "outputs": [
        {
          "data": {
            "text/plain": [
              "['đầu mùa giải vừa qua bùi tiến dũng chính thức khoác màu áo của câu lạc bộ hà nội với bản hợp đồng kéo dài năm triệu ba mươi mùa giải dù trước đó anh được huấn luyện viên park hang seo sử dụng ở cả sáu triệu hai trăm linh hai ngàn tám mươi ba trận đấu của bốn trăm bốn không không không ngang đê gi chéo dê việt nam trong khuôn khổ vòng loại rờ đê i sờ ngang ba nghìn hai mươi bốn trăm sáu mươi châu á chín mươi mốt chủ tịch câu lạc bộ hà nội ông nguyễn quốc hội cũng lên tiếng phủ nhận tin mười hai rưỡi đồn tiến dũng sẽ giải nghệ ông cho biết tiến dũng vừa cùng đồng đội tham dự afc cup anh vẫn khỏe mạnh và luyện tập bình thường']"
            ]
          },
          "execution_count": 5,
          "metadata": {},
          "output_type": "execute_result"
        }
      ],
      "source": [
        "sample_idx = 0\n",
        "set_name = 'test'\n",
        "norm_data[set_name][sample_idx]['src']"
      ]
    },
    {
      "cell_type": "markdown",
      "metadata": {
        "id": "W9u03spN8W39"
      },
      "source": [
        "## Model suggestions\n",
        "\n",
        "### Option 1: Machine Translation model (Check out the code [here](https://colab.research.google.com/drive/1thcrla_gT69GObRrTWybJwJ8UD-8nFj-?usp=sharing))\n",
        "\n",
        "Let's the input (src) like source language and output (tgt) like the target language. Using any machine translation model to handle this ITN task. One drawback of this solution is: For most of the word the src and the tgt is the same, doing translation for the whole src is a waste of resource.\n",
        "\n",
        "![](https://blog.paperspace.com/content/images/2021/04/image-27.png)\n",
        "\n",
        "### Option 2 (advanced): Find segments need to be normalized and do the normalization.\n",
        "\n",
        "![image.png](data:image/png;base64,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)"
      ]
    },
    {
      "cell_type": "markdown",
      "metadata": {
        "id": "J4ZeEbcMC0jD"
      },
      "source": [
        "## Model evaluation\n",
        "\n",
        "The _test_ set will be normalized using the trained model. [WER](https://huggingface.co/spaces/evaluate-metric/wer) metric will be use to evaluate this assignment."
      ]
    },
    {
      "cell_type": "code",
      "execution_count": null,
      "metadata": {
        "id": "olcfSyAB8hG5"
      },
      "outputs": [],
      "source": [
        "from datasets import load_metric"
      ]
    },
    {
      "cell_type": "code",
      "execution_count": null,
      "metadata": {
        "id": "6bMWgxFeEY0w"
      },
      "outputs": [
        {
          "name": "stderr",
          "output_type": "stream",
          "text": [
            "Downloading builder script: 4.48kB [00:00, 1.29MB/s]                   \n"
          ]
        }
      ],
      "source": [
        "wer = load_metric('wer')"
      ]
    },
    {
      "cell_type": "markdown",
      "metadata": {
        "id": "xU4iPXe7Glwu"
      },
      "source": [
        "### For example:"
      ]
    },
    {
      "cell_type": "code",
      "execution_count": null,
      "metadata": {
        "colab": {
          "base_uri": "https://localhost:8080/"
        },
        "id": "QTceZ2MyEcSU",
        "outputId": "29b7848d-bfbe-4301-fd5d-fcbf1021f6e5"
      },
      "outputs": [
        {
          "data": {
            "text/plain": [
              "0.25"
            ]
          },
          "metadata": {},
          "output_type": "display_data"
        }
      ],
      "source": [
        "wer.compute(predictions=['tổng thống a lếch lên nắm quyền ngày 13/8'],\n",
        "            references=['tổng thống alex lên nắm quyền ngày 13/8'])"
      ]
    },
    {
      "cell_type": "markdown",
      "metadata": {
        "id": "lTScJJK6Grqd"
      },
      "source": [
        "### Baseline WER result on the _valid_ set (do nothing model)"
      ]
    },
    {
      "cell_type": "code",
      "execution_count": null,
      "metadata": {
        "colab": {
          "base_uri": "https://localhost:8080/"
        },
        "id": "mb01mw9NGqK3",
        "outputId": "5a73ff54-b333-4c6d-93bf-61eeac4ddb7a"
      },
      "outputs": [
        {
          "data": {
            "text/plain": [
              "0.3577990422469617"
            ]
          },
          "metadata": {},
          "output_type": "display_data"
        }
      ],
      "source": [
        "predictions = [' '.join(item) for item in norm_data['valid']['src']]\n",
        "references = [' '.join(item) for item in norm_data['valid']['tgt']]\n",
        "wer.compute(predictions=predictions,\n",
        "            references=references)"
      ]
    },
    {
      "cell_type": "markdown",
      "metadata": {
        "id": "REv3gwqBWCiS"
      },
      "source": [
        "## Load pretrain language model"
      ]
    },
    {
      "cell_type": "code",
      "execution_count": null,
      "metadata": {
        "id": "ZcK8oP5XVpTv"
      },
      "outputs": [],
      "source": [
        "from transformers.file_utils import cached_path, hf_bucket_url\n",
        "from importlib.machinery import SourceFileLoader\n",
        "import os\n",
        "from transformers import EncoderDecoderModel\n",
        "\n",
        "cache_dir = './cache'\n",
        "model_name = 'nguyenvulebinh/envibert'\n",
        "\n",
        "if not os.path.exists(cache_dir):\n",
        "    os.makedirs(cache_dir)\n",
        "\n",
        "\n",
        "def download_tokenizer_files():\n",
        "    resources = ['envibert_tokenizer.py', 'dict.txt', 'sentencepiece.bpe.model']\n",
        "    for item in resources:\n",
        "        if not os.path.exists(os.path.join(cache_dir, item)):\n",
        "            tmp_file = hf_bucket_url(model_name, filename=item)\n",
        "            tmp_file = cached_path(tmp_file, cache_dir=cache_dir)\n",
        "            os.rename(tmp_file, os.path.join(cache_dir, item))\n",
        "\n",
        "def init_tokenizer():\n",
        "    download_tokenizer_files()\n",
        "    tokenizer = SourceFileLoader(\"envibert.tokenizer\",\n",
        "                                 os.path.join(cache_dir,\n",
        "                                              'envibert_tokenizer.py')).load_module().RobertaTokenizer(cache_dir)\n",
        "    return tokenizer\n",
        "\n",
        "def init_model():\n",
        "    download_tokenizer_files()\n",
        "    tokenizer = SourceFileLoader(\"envibert.tokenizer\",\n",
        "                                 os.path.join(cache_dir,\n",
        "                                              'envibert_tokenizer.py')).load_module().RobertaTokenizer(cache_dir)\n",
        "\n",
        "    # set encoder decoder tying to True\n",
        "    roberta_shared = EncoderDecoderModel.from_encoder_decoder_pretrained(model_name,\n",
        "                                                                         model_name,\n",
        "                                                                         tie_encoder_decoder=False)\n",
        "\n",
        "    # set special tokens\n",
        "    roberta_shared.config.decoder_start_token_id = tokenizer.bos_token_id\n",
        "    roberta_shared.config.eos_token_id = tokenizer.eos_token_id\n",
        "    roberta_shared.config.pad_token_id = tokenizer.pad_token_id\n",
        "\n",
        "    # sensible parameters for beam search\n",
        "    # set decoding params\n",
        "    roberta_shared.config.max_length = 512\n",
        "    roberta_shared.config.early_stopping = True\n",
        "    roberta_shared.config.no_repeat_ngram_size = 3\n",
        "    roberta_shared.config.length_penalty = 2.0\n",
        "    roberta_shared.config.num_beams = 1\n",
        "    roberta_shared.config.vocab_size = roberta_shared.config.encoder.vocab_size\n",
        "\n",
        "    return roberta_shared, tokenizer"
      ]
    },
    {
      "cell_type": "code",
      "execution_count": null,
      "metadata": {
        "colab": {
          "base_uri": "https://localhost:8080/"
        },
        "id": "7HPJdIIaWNqn",
        "outputId": "e9c09def-12e7-4a70-a208-e0d867271d7e"
      },
      "outputs": [
        {
          "name": "stderr",
          "output_type": "stream",
          "text": [
            "Some weights of the model checkpoint at nguyenvulebinh/envibert were not used when initializing RobertaModel: ['lm_head.layer_norm.weight', 'lm_head.layer_norm.bias', 'lm_head.dense.bias', 'lm_head.dense.weight', 'lm_head.bias']\n",
            "- This IS expected if you are initializing RobertaModel from the checkpoint of a model trained on another task or with another architecture (e.g. initializing a BertForSequenceClassification model from a BertForPreTraining model).\n",
            "- This IS NOT expected if you are initializing RobertaModel from the checkpoint of a model that you expect to be exactly identical (initializing a BertForSequenceClassification model from a BertForSequenceClassification model).\n",
            "Some weights of RobertaModel were not initialized from the model checkpoint at nguyenvulebinh/envibert and are newly initialized: ['roberta.pooler.dense.weight', 'roberta.pooler.dense.bias']\n",
            "You should probably TRAIN this model on a down-stream task to be able to use it for predictions and inference.\n",
            "Some weights of RobertaForCausalLM were not initialized from the model checkpoint at nguyenvulebinh/envibert and are newly initialized: ['roberta.encoder.layer.4.crossattention.self.key.weight', 'roberta.encoder.layer.2.crossattention.output.LayerNorm.bias', 'roberta.encoder.layer.2.crossattention.output.dense.bias', 'roberta.encoder.layer.0.crossattention.self.key.weight', 'roberta.encoder.layer.0.crossattention.self.query.bias', 'roberta.encoder.layer.0.crossattention.output.dense.bias', 'roberta.encoder.layer.0.crossattention.self.value.bias', 'roberta.encoder.layer.5.crossattention.output.LayerNorm.bias', 'roberta.encoder.layer.2.crossattention.output.dense.weight', 'roberta.encoder.layer.0.crossattention.output.LayerNorm.weight', 'roberta.encoder.layer.2.crossattention.output.LayerNorm.weight', 'roberta.encoder.layer.1.crossattention.self.key.weight', 'roberta.encoder.layer.3.crossattention.output.LayerNorm.weight', 'roberta.encoder.layer.4.crossattention.output.LayerNorm.bias', 'roberta.encoder.layer.1.crossattention.self.value.bias', 'roberta.encoder.layer.0.crossattention.self.query.weight', 'roberta.encoder.layer.2.crossattention.self.key.weight', 'roberta.encoder.layer.3.crossattention.output.dense.bias', 'roberta.encoder.layer.1.crossattention.output.dense.weight', 'roberta.encoder.layer.3.crossattention.self.key.bias', 'roberta.encoder.layer.3.crossattention.self.query.weight', 'roberta.encoder.layer.3.crossattention.self.key.weight', 'roberta.encoder.layer.0.crossattention.self.value.weight', 'roberta.encoder.layer.5.crossattention.output.LayerNorm.weight', 'roberta.encoder.layer.1.crossattention.self.key.bias', 'roberta.encoder.layer.2.crossattention.self.query.bias', 'roberta.encoder.layer.1.crossattention.self.query.bias', 'roberta.encoder.layer.5.crossattention.self.key.weight', 'roberta.encoder.layer.0.crossattention.output.LayerNorm.bias', 'roberta.encoder.layer.0.crossattention.self.key.bias', 'roberta.encoder.layer.3.crossattention.self.query.bias', 'roberta.encoder.layer.5.crossattention.self.key.bias', 'roberta.encoder.layer.1.crossattention.output.LayerNorm.bias', 'roberta.encoder.layer.5.crossattention.self.value.weight', 'roberta.encoder.layer.4.crossattention.self.query.weight', 'roberta.encoder.layer.4.crossattention.output.LayerNorm.weight', 'roberta.encoder.layer.5.crossattention.output.dense.bias', 'roberta.encoder.layer.5.crossattention.self.query.bias', 'roberta.encoder.layer.2.crossattention.self.query.weight', 'roberta.encoder.layer.3.crossattention.self.value.weight', 'roberta.encoder.layer.0.crossattention.output.dense.weight', 'roberta.encoder.layer.3.crossattention.output.dense.weight', 'roberta.encoder.layer.4.crossattention.self.query.bias', 'roberta.encoder.layer.5.crossattention.output.dense.weight', 'roberta.encoder.layer.4.crossattention.self.key.bias', 'roberta.encoder.layer.4.crossattention.output.dense.weight', 'roberta.encoder.layer.1.crossattention.output.LayerNorm.weight', 'roberta.encoder.layer.2.crossattention.self.value.weight', 'roberta.encoder.layer.3.crossattention.self.value.bias', 'roberta.encoder.layer.5.crossattention.self.query.weight', 'roberta.encoder.layer.4.crossattention.self.value.weight', 'roberta.encoder.layer.1.crossattention.self.value.weight', 'roberta.encoder.layer.4.crossattention.output.dense.bias', 'roberta.encoder.layer.4.crossattention.self.value.bias', 'roberta.encoder.layer.1.crossattention.output.dense.bias', 'roberta.encoder.layer.3.crossattention.output.LayerNorm.bias', 'roberta.encoder.layer.5.crossattention.self.value.bias', 'roberta.encoder.layer.2.crossattention.self.value.bias', 'roberta.encoder.layer.1.crossattention.self.query.weight', 'roberta.encoder.layer.2.crossattention.self.key.bias']\n",
            "You should probably TRAIN this model on a down-stream task to be able to use it for predictions and inference.\n"
          ]
        },
        {
          "data": {
            "text/plain": [
              "EncoderDecoderModel(\n",
              "  (encoder): RobertaModel(\n",
              "    (embeddings): RobertaEmbeddings(\n",
              "      (word_embeddings): Embedding(59993, 768, padding_idx=1)\n",
              "      (position_embeddings): Embedding(514, 768, padding_idx=1)\n",
              "      (token_type_embeddings): Embedding(1, 768)\n",
              "      (LayerNorm): LayerNorm((768,), eps=1e-05, elementwise_affine=True)\n",
              "      (dropout): Dropout(p=0.1, inplace=False)\n",
              "    )\n",
              "    (encoder): RobertaEncoder(\n",
              "      (layer): ModuleList(\n",
              "        (0): RobertaLayer(\n",
              "          (attention): RobertaAttention(\n",
              "            (self): RobertaSelfAttention(\n",
              "              (query): Linear(in_features=768, out_features=768, bias=True)\n",
              "              (key): Linear(in_features=768, out_features=768, bias=True)\n",
              "              (value): Linear(in_features=768, out_features=768, bias=True)\n",
              "              (dropout): Dropout(p=0.1, inplace=False)\n",
              "            )\n",
              "            (output): RobertaSelfOutput(\n",
              "              (dense): Linear(in_features=768, out_features=768, bias=True)\n",
              "              (LayerNorm): LayerNorm((768,), eps=1e-05, elementwise_affine=True)\n",
              "              (dropout): Dropout(p=0.1, inplace=False)\n",
              "            )\n",
              "          )\n",
              "          (intermediate): RobertaIntermediate(\n",
              "            (dense): Linear(in_features=768, out_features=1024, bias=True)\n",
              "            (intermediate_act_fn): GELUActivation()\n",
              "          )\n",
              "          (output): RobertaOutput(\n",
              "            (dense): Linear(in_features=1024, out_features=768, bias=True)\n",
              "            (LayerNorm): LayerNorm((768,), eps=1e-05, elementwise_affine=True)\n",
              "            (dropout): Dropout(p=0.1, inplace=False)\n",
              "          )\n",
              "        )\n",
              "        (1): RobertaLayer(\n",
              "          (attention): RobertaAttention(\n",
              "            (self): RobertaSelfAttention(\n",
              "              (query): Linear(in_features=768, out_features=768, bias=True)\n",
              "              (key): Linear(in_features=768, out_features=768, bias=True)\n",
              "              (value): Linear(in_features=768, out_features=768, bias=True)\n",
              "              (dropout): Dropout(p=0.1, inplace=False)\n",
              "            )\n",
              "            (output): RobertaSelfOutput(\n",
              "              (dense): Linear(in_features=768, out_features=768, bias=True)\n",
              "              (LayerNorm): LayerNorm((768,), eps=1e-05, elementwise_affine=True)\n",
              "              (dropout): Dropout(p=0.1, inplace=False)\n",
              "            )\n",
              "          )\n",
              "          (intermediate): RobertaIntermediate(\n",
              "            (dense): Linear(in_features=768, out_features=1024, bias=True)\n",
              "            (intermediate_act_fn): GELUActivation()\n",
              "          )\n",
              "          (output): RobertaOutput(\n",
              "            (dense): Linear(in_features=1024, out_features=768, bias=True)\n",
              "            (LayerNorm): LayerNorm((768,), eps=1e-05, elementwise_affine=True)\n",
              "            (dropout): Dropout(p=0.1, inplace=False)\n",
              "          )\n",
              "        )\n",
              "        (2): RobertaLayer(\n",
              "          (attention): RobertaAttention(\n",
              "            (self): RobertaSelfAttention(\n",
              "              (query): Linear(in_features=768, out_features=768, bias=True)\n",
              "              (key): Linear(in_features=768, out_features=768, bias=True)\n",
              "              (value): Linear(in_features=768, out_features=768, bias=True)\n",
              "              (dropout): Dropout(p=0.1, inplace=False)\n",
              "            )\n",
              "            (output): RobertaSelfOutput(\n",
              "              (dense): Linear(in_features=768, out_features=768, bias=True)\n",
              "              (LayerNorm): LayerNorm((768,), eps=1e-05, elementwise_affine=True)\n",
              "              (dropout): Dropout(p=0.1, inplace=False)\n",
              "            )\n",
              "          )\n",
              "          (intermediate): RobertaIntermediate(\n",
              "            (dense): Linear(in_features=768, out_features=1024, bias=True)\n",
              "            (intermediate_act_fn): GELUActivation()\n",
              "          )\n",
              "          (output): RobertaOutput(\n",
              "            (dense): Linear(in_features=1024, out_features=768, bias=True)\n",
              "            (LayerNorm): LayerNorm((768,), eps=1e-05, elementwise_affine=True)\n",
              "            (dropout): Dropout(p=0.1, inplace=False)\n",
              "          )\n",
              "        )\n",
              "        (3): RobertaLayer(\n",
              "          (attention): RobertaAttention(\n",
              "            (self): RobertaSelfAttention(\n",
              "              (query): Linear(in_features=768, out_features=768, bias=True)\n",
              "              (key): Linear(in_features=768, out_features=768, bias=True)\n",
              "              (value): Linear(in_features=768, out_features=768, bias=True)\n",
              "              (dropout): Dropout(p=0.1, inplace=False)\n",
              "            )\n",
              "            (output): RobertaSelfOutput(\n",
              "              (dense): Linear(in_features=768, out_features=768, bias=True)\n",
              "              (LayerNorm): LayerNorm((768,), eps=1e-05, elementwise_affine=True)\n",
              "              (dropout): Dropout(p=0.1, inplace=False)\n",
              "            )\n",
              "          )\n",
              "          (intermediate): RobertaIntermediate(\n",
              "            (dense): Linear(in_features=768, out_features=1024, bias=True)\n",
              "            (intermediate_act_fn): GELUActivation()\n",
              "          )\n",
              "          (output): RobertaOutput(\n",
              "            (dense): Linear(in_features=1024, out_features=768, bias=True)\n",
              "            (LayerNorm): LayerNorm((768,), eps=1e-05, elementwise_affine=True)\n",
              "            (dropout): Dropout(p=0.1, inplace=False)\n",
              "          )\n",
              "        )\n",
              "        (4): RobertaLayer(\n",
              "          (attention): RobertaAttention(\n",
              "            (self): RobertaSelfAttention(\n",
              "              (query): Linear(in_features=768, out_features=768, bias=True)\n",
              "              (key): Linear(in_features=768, out_features=768, bias=True)\n",
              "              (value): Linear(in_features=768, out_features=768, bias=True)\n",
              "              (dropout): Dropout(p=0.1, inplace=False)\n",
              "            )\n",
              "            (output): RobertaSelfOutput(\n",
              "              (dense): Linear(in_features=768, out_features=768, bias=True)\n",
              "              (LayerNorm): LayerNorm((768,), eps=1e-05, elementwise_affine=True)\n",
              "              (dropout): Dropout(p=0.1, inplace=False)\n",
              "            )\n",
              "          )\n",
              "          (intermediate): RobertaIntermediate(\n",
              "            (dense): Linear(in_features=768, out_features=1024, bias=True)\n",
              "            (intermediate_act_fn): GELUActivation()\n",
              "          )\n",
              "          (output): RobertaOutput(\n",
              "            (dense): Linear(in_features=1024, out_features=768, bias=True)\n",
              "            (LayerNorm): LayerNorm((768,), eps=1e-05, elementwise_affine=True)\n",
              "            (dropout): Dropout(p=0.1, inplace=False)\n",
              "          )\n",
              "        )\n",
              "        (5): RobertaLayer(\n",
              "          (attention): RobertaAttention(\n",
              "            (self): RobertaSelfAttention(\n",
              "              (query): Linear(in_features=768, out_features=768, bias=True)\n",
              "              (key): Linear(in_features=768, out_features=768, bias=True)\n",
              "              (value): Linear(in_features=768, out_features=768, bias=True)\n",
              "              (dropout): Dropout(p=0.1, inplace=False)\n",
              "            )\n",
              "            (output): RobertaSelfOutput(\n",
              "              (dense): Linear(in_features=768, out_features=768, bias=True)\n",
              "              (LayerNorm): LayerNorm((768,), eps=1e-05, elementwise_affine=True)\n",
              "              (dropout): Dropout(p=0.1, inplace=False)\n",
              "            )\n",
              "          )\n",
              "          (intermediate): RobertaIntermediate(\n",
              "            (dense): Linear(in_features=768, out_features=1024, bias=True)\n",
              "            (intermediate_act_fn): GELUActivation()\n",
              "          )\n",
              "          (output): RobertaOutput(\n",
              "            (dense): Linear(in_features=1024, out_features=768, bias=True)\n",
              "            (LayerNorm): LayerNorm((768,), eps=1e-05, elementwise_affine=True)\n",
              "            (dropout): Dropout(p=0.1, inplace=False)\n",
              "          )\n",
              "        )\n",
              "      )\n",
              "    )\n",
              "    (pooler): RobertaPooler(\n",
              "      (dense): Linear(in_features=768, out_features=768, bias=True)\n",
              "      (activation): Tanh()\n",
              "    )\n",
              "  )\n",
              "  (decoder): RobertaForCausalLM(\n",
              "    (roberta): RobertaModel(\n",
              "      (embeddings): RobertaEmbeddings(\n",
              "        (word_embeddings): Embedding(59993, 768, padding_idx=1)\n",
              "        (position_embeddings): Embedding(514, 768, padding_idx=1)\n",
              "        (token_type_embeddings): Embedding(1, 768)\n",
              "        (LayerNorm): LayerNorm((768,), eps=1e-05, elementwise_affine=True)\n",
              "        (dropout): Dropout(p=0.1, inplace=False)\n",
              "      )\n",
              "      (encoder): RobertaEncoder(\n",
              "        (layer): ModuleList(\n",
              "          (0): RobertaLayer(\n",
              "            (attention): RobertaAttention(\n",
              "              (self): RobertaSelfAttention(\n",
              "                (query): Linear(in_features=768, out_features=768, bias=True)\n",
              "                (key): Linear(in_features=768, out_features=768, bias=True)\n",
              "                (value): Linear(in_features=768, out_features=768, bias=True)\n",
              "                (dropout): Dropout(p=0.1, inplace=False)\n",
              "              )\n",
              "              (output): RobertaSelfOutput(\n",
              "                (dense): Linear(in_features=768, out_features=768, bias=True)\n",
              "                (LayerNorm): LayerNorm((768,), eps=1e-05, elementwise_affine=True)\n",
              "                (dropout): Dropout(p=0.1, inplace=False)\n",
              "              )\n",
              "            )\n",
              "            (crossattention): RobertaAttention(\n",
              "              (self): RobertaSelfAttention(\n",
              "                (query): Linear(in_features=768, out_features=768, bias=True)\n",
              "                (key): Linear(in_features=768, out_features=768, bias=True)\n",
              "                (value): Linear(in_features=768, out_features=768, bias=True)\n",
              "                (dropout): Dropout(p=0.1, inplace=False)\n",
              "              )\n",
              "              (output): RobertaSelfOutput(\n",
              "                (dense): Linear(in_features=768, out_features=768, bias=True)\n",
              "                (LayerNorm): LayerNorm((768,), eps=1e-05, elementwise_affine=True)\n",
              "                (dropout): Dropout(p=0.1, inplace=False)\n",
              "              )\n",
              "            )\n",
              "            (intermediate): RobertaIntermediate(\n",
              "              (dense): Linear(in_features=768, out_features=1024, bias=True)\n",
              "              (intermediate_act_fn): GELUActivation()\n",
              "            )\n",
              "            (output): RobertaOutput(\n",
              "              (dense): Linear(in_features=1024, out_features=768, bias=True)\n",
              "              (LayerNorm): LayerNorm((768,), eps=1e-05, elementwise_affine=True)\n",
              "              (dropout): Dropout(p=0.1, inplace=False)\n",
              "            )\n",
              "          )\n",
              "          (1): RobertaLayer(\n",
              "            (attention): RobertaAttention(\n",
              "              (self): RobertaSelfAttention(\n",
              "                (query): Linear(in_features=768, out_features=768, bias=True)\n",
              "                (key): Linear(in_features=768, out_features=768, bias=True)\n",
              "                (value): Linear(in_features=768, out_features=768, bias=True)\n",
              "                (dropout): Dropout(p=0.1, inplace=False)\n",
              "              )\n",
              "              (output): RobertaSelfOutput(\n",
              "                (dense): Linear(in_features=768, out_features=768, bias=True)\n",
              "                (LayerNorm): LayerNorm((768,), eps=1e-05, elementwise_affine=True)\n",
              "                (dropout): Dropout(p=0.1, inplace=False)\n",
              "              )\n",
              "            )\n",
              "            (crossattention): RobertaAttention(\n",
              "              (self): RobertaSelfAttention(\n",
              "                (query): Linear(in_features=768, out_features=768, bias=True)\n",
              "                (key): Linear(in_features=768, out_features=768, bias=True)\n",
              "                (value): Linear(in_features=768, out_features=768, bias=True)\n",
              "                (dropout): Dropout(p=0.1, inplace=False)\n",
              "              )\n",
              "              (output): RobertaSelfOutput(\n",
              "                (dense): Linear(in_features=768, out_features=768, bias=True)\n",
              "                (LayerNorm): LayerNorm((768,), eps=1e-05, elementwise_affine=True)\n",
              "                (dropout): Dropout(p=0.1, inplace=False)\n",
              "              )\n",
              "            )\n",
              "            (intermediate): RobertaIntermediate(\n",
              "              (dense): Linear(in_features=768, out_features=1024, bias=True)\n",
              "              (intermediate_act_fn): GELUActivation()\n",
              "            )\n",
              "            (output): RobertaOutput(\n",
              "              (dense): Linear(in_features=1024, out_features=768, bias=True)\n",
              "              (LayerNorm): LayerNorm((768,), eps=1e-05, elementwise_affine=True)\n",
              "              (dropout): Dropout(p=0.1, inplace=False)\n",
              "            )\n",
              "          )\n",
              "          (2): RobertaLayer(\n",
              "            (attention): RobertaAttention(\n",
              "              (self): RobertaSelfAttention(\n",
              "                (query): Linear(in_features=768, out_features=768, bias=True)\n",
              "                (key): Linear(in_features=768, out_features=768, bias=True)\n",
              "                (value): Linear(in_features=768, out_features=768, bias=True)\n",
              "                (dropout): Dropout(p=0.1, inplace=False)\n",
              "              )\n",
              "              (output): RobertaSelfOutput(\n",
              "                (dense): Linear(in_features=768, out_features=768, bias=True)\n",
              "                (LayerNorm): LayerNorm((768,), eps=1e-05, elementwise_affine=True)\n",
              "                (dropout): Dropout(p=0.1, inplace=False)\n",
              "              )\n",
              "            )\n",
              "            (crossattention): RobertaAttention(\n",
              "              (self): RobertaSelfAttention(\n",
              "                (query): Linear(in_features=768, out_features=768, bias=True)\n",
              "                (key): Linear(in_features=768, out_features=768, bias=True)\n",
              "                (value): Linear(in_features=768, out_features=768, bias=True)\n",
              "                (dropout): Dropout(p=0.1, inplace=False)\n",
              "              )\n",
              "              (output): RobertaSelfOutput(\n",
              "                (dense): Linear(in_features=768, out_features=768, bias=True)\n",
              "                (LayerNorm): LayerNorm((768,), eps=1e-05, elementwise_affine=True)\n",
              "                (dropout): Dropout(p=0.1, inplace=False)\n",
              "              )\n",
              "            )\n",
              "            (intermediate): RobertaIntermediate(\n",
              "              (dense): Linear(in_features=768, out_features=1024, bias=True)\n",
              "              (intermediate_act_fn): GELUActivation()\n",
              "            )\n",
              "            (output): RobertaOutput(\n",
              "              (dense): Linear(in_features=1024, out_features=768, bias=True)\n",
              "              (LayerNorm): LayerNorm((768,), eps=1e-05, elementwise_affine=True)\n",
              "              (dropout): Dropout(p=0.1, inplace=False)\n",
              "            )\n",
              "          )\n",
              "          (3): RobertaLayer(\n",
              "            (attention): RobertaAttention(\n",
              "              (self): RobertaSelfAttention(\n",
              "                (query): Linear(in_features=768, out_features=768, bias=True)\n",
              "                (key): Linear(in_features=768, out_features=768, bias=True)\n",
              "                (value): Linear(in_features=768, out_features=768, bias=True)\n",
              "                (dropout): Dropout(p=0.1, inplace=False)\n",
              "              )\n",
              "              (output): RobertaSelfOutput(\n",
              "                (dense): Linear(in_features=768, out_features=768, bias=True)\n",
              "                (LayerNorm): LayerNorm((768,), eps=1e-05, elementwise_affine=True)\n",
              "                (dropout): Dropout(p=0.1, inplace=False)\n",
              "              )\n",
              "            )\n",
              "            (crossattention): RobertaAttention(\n",
              "              (self): RobertaSelfAttention(\n",
              "                (query): Linear(in_features=768, out_features=768, bias=True)\n",
              "                (key): Linear(in_features=768, out_features=768, bias=True)\n",
              "                (value): Linear(in_features=768, out_features=768, bias=True)\n",
              "                (dropout): Dropout(p=0.1, inplace=False)\n",
              "              )\n",
              "              (output): RobertaSelfOutput(\n",
              "                (dense): Linear(in_features=768, out_features=768, bias=True)\n",
              "                (LayerNorm): LayerNorm((768,), eps=1e-05, elementwise_affine=True)\n",
              "                (dropout): Dropout(p=0.1, inplace=False)\n",
              "              )\n",
              "            )\n",
              "            (intermediate): RobertaIntermediate(\n",
              "              (dense): Linear(in_features=768, out_features=1024, bias=True)\n",
              "              (intermediate_act_fn): GELUActivation()\n",
              "            )\n",
              "            (output): RobertaOutput(\n",
              "              (dense): Linear(in_features=1024, out_features=768, bias=True)\n",
              "              (LayerNorm): LayerNorm((768,), eps=1e-05, elementwise_affine=True)\n",
              "              (dropout): Dropout(p=0.1, inplace=False)\n",
              "            )\n",
              "          )\n",
              "          (4): RobertaLayer(\n",
              "            (attention): RobertaAttention(\n",
              "              (self): RobertaSelfAttention(\n",
              "                (query): Linear(in_features=768, out_features=768, bias=True)\n",
              "                (key): Linear(in_features=768, out_features=768, bias=True)\n",
              "                (value): Linear(in_features=768, out_features=768, bias=True)\n",
              "                (dropout): Dropout(p=0.1, inplace=False)\n",
              "              )\n",
              "              (output): RobertaSelfOutput(\n",
              "                (dense): Linear(in_features=768, out_features=768, bias=True)\n",
              "                (LayerNorm): LayerNorm((768,), eps=1e-05, elementwise_affine=True)\n",
              "                (dropout): Dropout(p=0.1, inplace=False)\n",
              "              )\n",
              "            )\n",
              "            (crossattention): RobertaAttention(\n",
              "              (self): RobertaSelfAttention(\n",
              "                (query): Linear(in_features=768, out_features=768, bias=True)\n",
              "                (key): Linear(in_features=768, out_features=768, bias=True)\n",
              "                (value): Linear(in_features=768, out_features=768, bias=True)\n",
              "                (dropout): Dropout(p=0.1, inplace=False)\n",
              "              )\n",
              "              (output): RobertaSelfOutput(\n",
              "                (dense): Linear(in_features=768, out_features=768, bias=True)\n",
              "                (LayerNorm): LayerNorm((768,), eps=1e-05, elementwise_affine=True)\n",
              "                (dropout): Dropout(p=0.1, inplace=False)\n",
              "              )\n",
              "            )\n",
              "            (intermediate): RobertaIntermediate(\n",
              "              (dense): Linear(in_features=768, out_features=1024, bias=True)\n",
              "              (intermediate_act_fn): GELUActivation()\n",
              "            )\n",
              "            (output): RobertaOutput(\n",
              "              (dense): Linear(in_features=1024, out_features=768, bias=True)\n",
              "              (LayerNorm): LayerNorm((768,), eps=1e-05, elementwise_affine=True)\n",
              "              (dropout): Dropout(p=0.1, inplace=False)\n",
              "            )\n",
              "          )\n",
              "          (5): RobertaLayer(\n",
              "            (attention): RobertaAttention(\n",
              "              (self): RobertaSelfAttention(\n",
              "                (query): Linear(in_features=768, out_features=768, bias=True)\n",
              "                (key): Linear(in_features=768, out_features=768, bias=True)\n",
              "                (value): Linear(in_features=768, out_features=768, bias=True)\n",
              "                (dropout): Dropout(p=0.1, inplace=False)\n",
              "              )\n",
              "              (output): RobertaSelfOutput(\n",
              "                (dense): Linear(in_features=768, out_features=768, bias=True)\n",
              "                (LayerNorm): LayerNorm((768,), eps=1e-05, elementwise_affine=True)\n",
              "                (dropout): Dropout(p=0.1, inplace=False)\n",
              "              )\n",
              "            )\n",
              "            (crossattention): RobertaAttention(\n",
              "              (self): RobertaSelfAttention(\n",
              "                (query): Linear(in_features=768, out_features=768, bias=True)\n",
              "                (key): Linear(in_features=768, out_features=768, bias=True)\n",
              "                (value): Linear(in_features=768, out_features=768, bias=True)\n",
              "                (dropout): Dropout(p=0.1, inplace=False)\n",
              "              )\n",
              "              (output): RobertaSelfOutput(\n",
              "                (dense): Linear(in_features=768, out_features=768, bias=True)\n",
              "                (LayerNorm): LayerNorm((768,), eps=1e-05, elementwise_affine=True)\n",
              "                (dropout): Dropout(p=0.1, inplace=False)\n",
              "              )\n",
              "            )\n",
              "            (intermediate): RobertaIntermediate(\n",
              "              (dense): Linear(in_features=768, out_features=1024, bias=True)\n",
              "              (intermediate_act_fn): GELUActivation()\n",
              "            )\n",
              "            (output): RobertaOutput(\n",
              "              (dense): Linear(in_features=1024, out_features=768, bias=True)\n",
              "              (LayerNorm): LayerNorm((768,), eps=1e-05, elementwise_affine=True)\n",
              "              (dropout): Dropout(p=0.1, inplace=False)\n",
              "            )\n",
              "          )\n",
              "        )\n",
              "      )\n",
              "    )\n",
              "    (lm_head): RobertaLMHead(\n",
              "      (dense): Linear(in_features=768, out_features=768, bias=True)\n",
              "      (layer_norm): LayerNorm((768,), eps=1e-05, elementwise_affine=True)\n",
              "      (decoder): Linear(in_features=768, out_features=59993, bias=True)\n",
              "    )\n",
              "  )\n",
              ")"
            ]
          },
          "metadata": {},
          "output_type": "display_data"
        }
      ],
      "source": [
        "model, tokenizer = init_model()\n",
        "model"
      ]
    },
    {
      "cell_type": "code",
      "execution_count": null,
      "metadata": {
        "colab": {
          "base_uri": "https://localhost:8080/"
        },
        "id": "3VWbohaxPdX0",
        "outputId": "406fd829-b162-48bb-9699-ae58652a297e",
        "scrolled": true
      },
      "outputs": [
        {
          "name": "stdout",
          "output_type": "stream",
          "text": [
            "['đầu', 'mùa', 'giải', 'vừa', 'qua', 'bùi', 'tiến', 'dũng', 'chính', 'thức', 'khoác', 'màu', 'áo', 'của', 'câu lạc bộ', 'hà', 'nội', 'với', 'bản', 'hợp', 'đồng', 'kéo', 'dài', 'hai ngàn tám trăm linh một', 'mùa', 'giải', 'dù', 'trước', 'đó', 'anh', 'được', 'huấn luyện viên', 'park', 'hang', 'seo', 'sử', 'dụng', 'ở', 'cả', 'sáu mốt ngàn một trăm hai tám phẩy bảy chín tám tám', 'trận', 'đấu', 'của', 'chéo một nghìn xoẹt ba không không', 'việt', 'nam', 'trong', 'khuôn', 'khổ', 'vòng', 'loại', 'xuộc dê bê quờ gạch ngang ba năm không', 'châu', 'á', 'sáu mươi bốn phẩy không không bảy mươi tư', 'chủ', 'tịch', 'câu lạc bộ', 'hà', 'nội', 'ông', 'nguyễn', 'quốc', 'hội', 'cũng', 'không giờ sáu mươi', 'lên', 'tiếng', 'phủ', 'nhận', 'tin', 'đồn', 'tiến', 'dũng', 'sẽ', 'giải', 'nghệ', 'ông', 'cho', 'biết', 'tiến', 'dũng', 'vừa', 'cùng', 'đồng', 'đội', 'tham', 'dự', 'afc', 'cup', 'anh', 'vẫn', 'khỏe', 'mạnh', 'và', 'luyện', 'tập', 'bình', 'thường']\n"
          ]
        }
      ],
      "source": [
        "print(dataset['train'][1][\"src\"])"
      ]
    },
    {
      "cell_type": "code",
      "execution_count": null,
      "metadata": {
        "colab": {
          "base_uri": "https://localhost:8080/"
        },
        "id": "UBoMx9n6WR6o",
        "outputId": "5dfde6e2-3e91-4b89-b4f0-fafad15d1dba",
        "scrolled": true
      },
      "outputs": [
        {
          "name": "stdout",
          "output_type": "stream",
          "text": [
            "đầu mùa giải vừa qua bùi tiến dũng chính thức khoác màu áo của câu lạc bộ hà nội với bản hợp đồng kéo dài hai ngàn tám trăm linh một mùa giải dù trước đó anh được huấn luyện viên park hang seo sử dụng ở cả sáu mốt ngàn một trăm hai tám phẩy bảy chín tám tám trận đấu của chéo một nghìn xoẹt ba không không việt nam trong khuôn khổ vòng loại xuộc dê bê quờ gạch ngang ba năm không châu á sáu mươi bốn phẩy không không bảy mươi tư chủ tịch câu lạc bộ hà nội ông nguyễn quốc hội cũng không giờ sáu mươi lên tiếng phủ nhận tin đồn tiến dũng sẽ giải nghệ ông cho biết tiến dũng vừa cùng đồng đội tham dự afc cup anh vẫn khỏe mạnh và luyện tập bình thường [0, 105, 1137, 279, 478, 204, 22298, 620, 8463, 136, 360, 6332, 686, 1102, 20, 886, 1734, 223, 5489, 613, 39, 321, 150, 122, 1297, 670, 296, 2942, 8528, 2340, 1925, 40, 1137, 279, 820, 229, 82, 252, 34, 3148, 1713, 198, 3832, 4173, 19008, 245, 144, 69, 206, 5739, 15158, 2942, 40, 2340, 296, 8528, 47275, 6617, 4521, 8528, 8528, 724, 593, 20, 11322, 40, 2765, 14059, 14936, 959, 38, 38, 5508, 1163, 37, 2843, 2306, 1001, 342, 2541, 16276, 14144, 4200, 4505, 15451, 5606, 2737, 959, 93, 38, 1422, 13727, 5739, 7469, 3471, 47275, 38, 38, 6617, 7469, 237, 286, 839, 886, 1734, 223, 5489, 613, 167, 31066, 361, 227, 77, 38, 458, 5739, 7469, 215, 520, 718, 208, 222, 4721, 620, 8463, 75, 279, 552, 167, 35, 182, 620, 8463, 478, 200, 122, 449, 416, 298, 16550, 1338, 6276, 252, 290, 1131, 460, 17, 1713, 356, 565, 327, 2]\n"
          ]
        }
      ],
      "source": [
        "# Tokenizing input and output sentences.\n",
        "data = \" \".join(dataset['train'][1][\"src\"])\n",
        "print(data, tokenizer(data)[\"input_ids\"])"
      ]
    },
    {
      "cell_type": "code",
      "execution_count": null,
      "metadata": {},
      "outputs": [
        {
          "name": "stderr",
          "output_type": "stream",
          "text": [
            "Loading cached shuffled indices for dataset at /home/ubuntu/.cache/huggingface/datasets/VietAI___parquet/VietAI--spoken_norm_assignment-ada0fdcdb6b08774/0.0.0/2a3b91fbd88a2c90d1dbbb32b460cf621d31bd5b05b934492fdef7d8d6f236ec/cache-e174e4e6e92ec642.arrow\n"
          ]
        }
      ],
      "source": [
        "from datasets import DatasetDict\n",
        "\n",
        "def get_sample_from_dataset(dataset, train_size=10000):\n",
        "    dataset_small = DatasetDict()\n",
        "    dataset_small['valid'] = dataset['valid']\n",
        "    dataset_small['test'] = dataset['test']\n",
        "    dataset_small['train'] = dataset['train'].shuffle(seed=0).select(range(train_size))\n",
        "    return dataset_small\n",
        "\n",
        "dataset = get_sample_from_dataset(dataset, train_size=400000)"
      ]
    },
    {
      "cell_type": "code",
      "execution_count": null,
      "metadata": {
        "colab": {
          "base_uri": "https://localhost:8080/"
        },
        "id": "CHeR8NvOPdX2",
        "outputId": "77b0559d-0d8c-4472-9e5a-17c350dee25c",
        "scrolled": true
      },
      "outputs": [
        {
          "name": "stderr",
          "output_type": "stream",
          "text": [
            "Loading cached processed dataset at /home/ubuntu/.cache/huggingface/datasets/VietAI___parquet/VietAI--spoken_norm_assignment-ada0fdcdb6b08774/0.0.0/2a3b91fbd88a2c90d1dbbb32b460cf621d31bd5b05b934492fdef7d8d6f236ec/cache-e84913bb0303ecb4.arrow\n",
            "Loading cached processed dataset at /home/ubuntu/.cache/huggingface/datasets/VietAI___parquet/VietAI--spoken_norm_assignment-ada0fdcdb6b08774/0.0.0/2a3b91fbd88a2c90d1dbbb32b460cf621d31bd5b05b934492fdef7d8d6f236ec/cache-7f318411eaf45af4.arrow\n",
            "Loading cached processed dataset at /home/ubuntu/.cache/huggingface/datasets/VietAI___parquet/VietAI--spoken_norm_assignment-ada0fdcdb6b08774/0.0.0/2a3b91fbd88a2c90d1dbbb32b460cf621d31bd5b05b934492fdef7d8d6f236ec/cache-30ba18cb8ab8b2d9.arrow\n"
          ]
        },
        {
          "name": "stdout",
          "output_type": "stream",
          "text": [
            "ronaldo tạo nên kỷ lục mà messi khó chạm tới ba bàn thắng vào lưới cagliari ở vòng bảy hai nghìn ba trăm bốn chín phẩy bẩy sáu bẩy bẩy serie a giúp ronaldo có được kỷ lục mới mà messi khó lòng đạt được cristiano ronaldo tỏa sáng rực rỡ giúp juventus khởi đầu năm mới hoành tráng bằng chiến thắng tám hai ba sáu không ba không chín năm hai bảy trên sân nhà trước cagliari bốn không không i gờ o ghi một triệu bàn và thực hiện đường kiến tạo cho higuain lập công ronaldo có được thêm hàng loạt kỷ lục sau cú hat-trick đầu tiên ở serie a ảnh getty màn trình diễn ấn tượng này giúp ronaldo thiết lập nhiều kỷ lục mới trong sự nghiệp siêu sao sinh mười chín giờ bốn trở thành cầu thủ thứ mười ba trên mười ba trong lịch sử lập hat-trick ở âm năm bẩy phẩy tám giải đấu premier league la liga serie a trước ronaldo chỉ có alexis sanchez làm được điều này ronaldo cũng đã có cú hat-trick thứ bẩy mươi chín phẩy không không một tới tám mươi sáu phẩy chín trong sự nghiệp thành tích không cầu thủ nào chạm đến cựu sao real madrid còn ghi danh lịch sử với tư cách là cầu thủ đầu tiên ghi bàn trong một chia mười một mùa liên tiếp hai trăm chín mốt ki lô gờ ram tính riêng trong top ba trăm năm mươi sáu nghìn bốn trăm năm mươi ba giải đấu hàng đầu châu âu từ mười chín giờ đến cộng bẩy năm năm hai sáu một sáu sáu năm hai ronaldo gần như chắc chắn sẽ không bị messi bắt kịp ở kỷ lục lập hat-trick ở bẩy triệu không ngàn bốn trăm linh ba giải đấu premier league la liga serie a bởi cầu thủ người argentina sẽ khó lòng chuyển đến anh hay italia thi đấu khi vẫn chỉ gắn bó với barca tháng bảy từ ngày bắt đầu sự nghiệp cú hat-trick của ronaldo đêm tám trăm u lờ gạch chéo đê i tê góp phần giúp juventus bám đuổi quyết liệt inter trên bảng xếp hạng serie a với cùng điểm số ba hai ba một năm bốn sáu bốn không năm bảy đại diện thành turin chỉ thua đối thủ về hiệu số bàn thắng bại [0, 1598, 44484, 714, 285, 180, 1353, 2861, 145, 6427, 592, 503, 3231, 273, 959, 544, 1079, 79, 2786, 1464, 2589, 6805, 4320, 69, 1001, 6617, 296, 2765, 959, 2340, 3471, 4521, 47275, 19599, 5739, 19599, 19599, 49966, 10, 345, 1598, 44484, 714, 22, 34, 1353, 2861, 183, 145, 6427, 592, 503, 800, 667, 34, 2958, 1649, 12218, 1598, 44484, 714, 3747, 485, 6554, 6014, 345, 21726, 20694, 1355, 1474, 105, 93, 183, 8768, 6383, 301, 475, 1079, 8528, 296, 959, 5739, 38, 959, 38, 4521, 93, 296, 6617, 89, 875, 107, 229, 1464, 2589, 6805, 4320, 3471, 38, 38, 87, 43810, 2348, 1116, 40, 469, 544, 17, 163, 95, 251, 522, 285, 35, 1977, 49074, 3814, 541, 59, 1598, 44484, 714, 22, 34, 499, 114, 2216, 1353, 2861, 175, 4025, 5988, 142, 38221, 105, 597, 69, 49966, 10, 354, 239, 4764, 1548, 205, 444, 1705, 534, 60, 345, 1598, 44484, 714, 322, 541, 86, 1353, 2861, 183, 37, 104, 221, 1688, 631, 174, 5954, 4521, 458, 3471, 402, 119, 255, 413, 482, 5954, 959, 89, 5954, 959, 37, 623, 245, 541, 5988, 142, 38221, 69, 1048, 93, 19599, 47275, 8528, 279, 593, 15507, 3714, 2267, 6176, 8625, 49966, 10, 229, 1598, 44484, 714, 127, 22, 11254, 1115, 25, 15157, 10513, 83, 34, 166, 60, 1598, 44484, 714, 77, 44, 22, 4025, 5988, 142, 38221, 482, 19599, 7469, 4521, 47275, 38, 38, 40, 273, 8528, 7469, 5739, 47275, 4521, 37, 104, 221, 119, 448, 38, 255, 413, 288, 3231, 62, 3527, 631, 741, 5879, 13916, 152, 1116, 853, 623, 245, 39, 237, 210, 24, 255, 413, 105, 597, 1116, 544, 37, 40, 775, 5954, 40, 1137, 376, 238, 296, 2340, 4521, 15158, 13168, 3667, 43810, 16107, 330, 958, 37, 921, 959, 2340, 93, 7469, 5739, 2765, 3471, 2340, 93, 7469, 959, 279, 593, 114, 105, 1422, 9690, 84, 5954, 4521, 458, 62, 1132, 19599, 93, 93, 296, 5739, 40, 5739, 5739, 93, 296, 1598, 44484, 714, 479, 80, 1133, 1623, 75, 38, 102, 6427, 592, 498, 1984, 69, 1353, 2861, 541, 5988, 142, 38221, 69, 19599, 469, 38, 2942, 3471, 2340, 1925, 959, 279, 593, 15507, 3714, 2267, 6176, 8625, 49966, 10, 688, 255, 413, 41, 28914, 2666, 2844, 75, 503, 800, 488, 62, 252, 292, 23, 18277, 392, 593, 63, 290, 127, 1961, 4177, 39, 2875, 7151, 309, 6617, 84, 125, 498, 105, 104, 221, 4025, 5988, 142, 38221, 20, 1598, 44484, 714, 1253, 8528, 2340, 2961, 14727, 5606, 11322, 8840, 87, 8418, 1027, 305, 345, 21726, 20694, 1355, 4259, 3386, 397, 2217, 5551, 89, 1706, 1752, 1838, 49966, 10, 39, 200, 235, 113, 959, 296, 959, 40, 93, 3471, 5739, 3471, 38, 93, 6617, 344, 548, 119, 22997, 829, 127, 2819, 212, 413, 66, 325, 113, 544, 1079, 2578, 2]\n"
          ]
        }
      ],
      "source": [
        "new_dataset = dataset.map(lambda example: {\"src\": \" \".join(example[\"src\"])}, remove_columns=[\"src\"])\n",
        "print(new_dataset['train'][1][\"src\"], tokenizer(new_dataset['train'][1][\"src\"])[\"input_ids\"])"
      ]
    },
    {
      "cell_type": "code",
      "execution_count": null,
      "metadata": {
        "colab": {
          "base_uri": "https://localhost:8080/"
        },
        "id": "WhklDI0cPdX3",
        "outputId": "3db08185-56af-4c7e-a7ce-46917912aab0",
        "scrolled": false
      },
      "outputs": [
        {
          "name": "stderr",
          "output_type": "stream",
          "text": [
            "Loading cached processed dataset at /home/ubuntu/.cache/huggingface/datasets/VietAI___parquet/VietAI--spoken_norm_assignment-ada0fdcdb6b08774/0.0.0/2a3b91fbd88a2c90d1dbbb32b460cf621d31bd5b05b934492fdef7d8d6f236ec/cache-00619be07eee2155.arrow\n",
            "Loading cached processed dataset at /home/ubuntu/.cache/huggingface/datasets/VietAI___parquet/VietAI--spoken_norm_assignment-ada0fdcdb6b08774/0.0.0/2a3b91fbd88a2c90d1dbbb32b460cf621d31bd5b05b934492fdef7d8d6f236ec/cache-bd367658ee651e20.arrow\n",
            "Loading cached processed dataset at /home/ubuntu/.cache/huggingface/datasets/VietAI___parquet/VietAI--spoken_norm_assignment-ada0fdcdb6b08774/0.0.0/2a3b91fbd88a2c90d1dbbb32b460cf621d31bd5b05b934492fdef7d8d6f236ec/cache-fe17b9fc490bc6ef.arrow\n"
          ]
        },
        {
          "name": "stdout",
          "output_type": "stream",
          "text": [
            "ronaldo tạo nên kỷ lục mà messi khó chạm tới ba bàn thắng vào lưới cagliari ở vòng 72.349,7677 serie a giúp ronaldo có được kỷ lục mới mà messi khó lòng đạt được cristiano ronaldo tỏa sáng rực rỡ giúp juventus khởi đầu năm mới hoành tráng bằng chiến thắng 82360309527 trên sân nhà trước cagliari 400igo ghi 1.000.000 bàn và thực hiện đường kiến tạo cho higuain lập công ronaldo có được thêm hàng loạt kỷ lục sau cú hat-trick đầu tiên ở serie a ảnh getty màn trình diễn ấn tượng này giúp ronaldo thiết lập nhiều kỷ lục mới trong sự nghiệp siêu sao sinh 19h4 trở thành cầu thủ thứ 13 / 13 trong lịch sử lập hat-trick ở -57,8 giải đấu premier league la liga serie a trước ronaldo chỉ có alexis sanchez làm được điều này ronaldo cũng đã có cú hat-trick thứ 79,001 - 86,9 trong sự nghiệp thành tích không cầu thủ nào chạm đến cựu sao real madrid còn ghi danh lịch sử với tư cách là cầu thủ đầu tiên ghi bàn trong 1 / 11 mùa liên tiếp 291 kg tính riêng trong top 356.453 giải đấu hàng đầu châu âu từ 19h đến +7552616652 ronaldo gần như chắc chắn sẽ không bị messi bắt kịp ở kỷ lục lập hat-trick ở 7.000.403 giải đấu premier league la liga serie a bởi cầu thủ người argentina sẽ khó lòng chuyển đến anh hay italia thi đấu khi vẫn chỉ gắn bó với barca tháng 7 từ ngày bắt đầu sự nghiệp cú hat-trick của ronaldo đêm 800ul/đit góp phần giúp juventus bám đuổi quyết liệt inter trên bảng xếp hạng serie a với cùng điểm số 32315464057 đại diện thành turin chỉ thua đối thủ về hiệu số bàn thắng bại [0, 1598, 44484, 714, 285, 180, 1353, 2861, 145, 6427, 592, 503, 3231, 273, 959, 544, 1079, 79, 2786, 1464, 2589, 6805, 4320, 69, 1001, 5389, 5363, 9030, 7010, 9365, 1696, 49966, 10, 345, 1598, 44484, 714, 22, 34, 1353, 2861, 183, 145, 6427, 592, 503, 800, 667, 34, 2958, 1649, 12218, 1598, 44484, 714, 3747, 485, 6554, 6014, 345, 21726, 20694, 1355, 1474, 105, 93, 183, 8768, 6383, 301, 475, 1079, 519, 3330, 5125, 2964, 11070, 8331, 89, 875, 107, 229, 1464, 2589, 6805, 4320, 3198, 14620, 1116, 30966, 544, 17, 163, 95, 251, 522, 285, 35, 1977, 49074, 3814, 541, 59, 1598, 44484, 714, 22, 34, 499, 114, 2216, 1353, 2861, 175, 4025, 5988, 142, 38221, 105, 597, 69, 49966, 10, 354, 239, 4764, 1548, 205, 444, 1705, 534, 60, 345, 1598, 44484, 714, 322, 541, 86, 1353, 2861, 183, 37, 104, 221, 1688, 631, 174, 1195, 669, 1459, 402, 119, 255, 413, 482, 938, 233, 938, 37, 623, 245, 541, 5988, 142, 38221, 69, 13, 16193, 6936, 279, 593, 15507, 3714, 2267, 6176, 8625, 49966, 10, 229, 1598, 44484, 714, 127, 22, 11254, 1115, 25, 15157, 10513, 83, 34, 166, 60, 1598, 44484, 714, 77, 44, 22, 4025, 5988, 142, 38221, 482, 6572, 57339, 23613, 13, 6417, 7750, 37, 104, 221, 119, 448, 38, 255, 413, 288, 3231, 62, 3527, 631, 741, 5879, 13916, 152, 1116, 853, 623, 245, 39, 237, 210, 24, 255, 413, 105, 597, 1116, 544, 37, 139, 233, 704, 1137, 376, 238, 44002, 4931, 330, 958, 37, 921, 40540, 35380, 1245, 279, 593, 114, 105, 1422, 9690, 84, 1195, 669, 62, 1349, 7570, 1626, 7932, 5533, 6995, 794, 1598, 44484, 714, 479, 80, 1133, 1623, 75, 38, 102, 6427, 592, 498, 1984, 69, 1353, 2861, 541, 5988, 142, 38221, 69, 19325, 35704, 1245, 279, 593, 15507, 3714, 2267, 6176, 8625, 49966, 10, 688, 255, 413, 41, 28914, 2666, 2844, 75, 503, 800, 488, 62, 252, 292, 23, 18277, 392, 593, 63, 290, 127, 1961, 4177, 39, 2875, 7151, 309, 483, 84, 125, 498, 105, 104, 221, 4025, 5988, 142, 38221, 20, 1598, 44484, 714, 1253, 4627, 3100, 428, 3439, 1799, 1027, 305, 345, 21726, 20694, 1355, 4259, 3386, 397, 2217, 5551, 89, 1706, 1752, 1838, 49966, 10, 39, 200, 235, 113, 35934, 4842, 8749, 4797, 16193, 344, 548, 119, 22997, 829, 127, 2819, 212, 413, 66, 325, 113, 544, 1079, 2578, 2]\n"
          ]
        }
      ],
      "source": [
        "dataset = new_dataset.map(lambda example: {\"tgt\": \" \".join(example[\"tgt\"])}, remove_columns=[\"tgt\"])\n",
        "print(dataset['train'][1][\"tgt\"], tokenizer(dataset['train'][1][\"tgt\"])[\"input_ids\"])"
      ]
    },
    {
      "cell_type": "code",
      "execution_count": null,
      "metadata": {
        "colab": {
          "base_uri": "https://localhost:8080/"
        },
        "id": "3snPu8SXPdX4",
        "outputId": "41fd3784-952f-4a8e-91ec-dfc3bafd639d",
        "scrolled": true
      },
      "outputs": [
        {
          "name": "stdout",
          "output_type": "stream",
          "text": [
            "macbook pro âm tám am be trên mê ga bít tốt gỗ tốt cả nước sơn zing máy có vỏ nhôm sáng bóng đồng thời được tích hợp bộ vi xử lý core bờ hát a dét o ích ngang tốc độ cộng một bốn bốn sáu chín hai chín tám bốn bốn tám ghi ga héc của intel bộ nhớ ram ba trăm bẩy mươi tám ki lô mét vuông ổ cứng ba trăm linh tám ki lô mét và công nghệ chuyển đổi đồ họa tự động nvidia optimus so với model âm năm nghìn chín trăm lẻ bốn chấm một bốn mi li mét vuông trên mê ga oát sử dụng vi u bờ lờ ngang i xử lý core hai trăm hai bảy ngàn bẩy trăm bẩy bốn duo chiếc macbook pro hai trăm linh tám in mới được tân trang lại dường như đã trở nên chắc chắn và mạnh mẽ hơn cũng như những model macbook pro cũ bộ khung liền khối là lớp nhôm sáng bóng và khá chắc chắn macbook pro sở hữu touchpad rộng để thực hiện các thao tác đa chạm thực tế điều khiển cảm ứng thực sự thiết yếu đối với macbook pro so với iphone và ipad về những thao tác đa chạm việc di chuyển bằng sáu mươi ngàn sáu trăm hai mươi sáu ngón tay thực sự ấn tượng ví như bạn chỉ việc sang trái hoặc phải để chuyển các ứng dụng và lên trên để giấu tất cả cửa sổ đang hoạt động trong những năm vừa qua nhiều nhà sản xuất phòng chống đã bổ sung một vài kiểu chức năng đa chạm đối với touchpad mặc dù vậy hiện vẫn chưa có máy nào qua mặt được sản phẩm của apple phiên bản mới được nâng cấp còn có thêm sáu triệu một trăm sáu tám ngàn chín trăm lẻ bảy cải tiến nhỏ mà apple gọi là inertial scrolling cho phép người dùng thao tác nhanh chóng hơn trong các thư viện ảnh lớn những tài liệu dài hay những trang web quá khổ màn hình macbook pro năm ngàn không trăm sáu mươi bảy phẩy tám tám không dặm một giờ trên phuốt có độ phân giải giai đoạn mười một mười bốn x ba tám chấm ba không pixel tuy nhiên với sự phát không sáu bốn bảy tám bốn ba không một ba sáu tám triển của video hướng dẫn trực tuyến và nhu cầu chơi game người dùng vẫn muốn tăng thêm độ phân giải vì thế apple đưa ra thêm một lựa chọn là màn hình có độ phân giải một ngàn hai trăm mười ba x cộng bẩy hai tám một một tám tám không bốn năm năm pixel nhưng bạn phải trả thêm năm trăm mười ba tấn cả macbook pro không chín chín không tám chín bốn tám bẩy hai sáu không lẫn tám trăm hai mươi bảy đề xi mét đều được trang bị tính năng chuyển đổi đồ họa tự động ngày sáu và ngày sáu tháng mười một với âm một nghìn sáu trăm bảy mốt phẩy một hai ngày công nghệ chuyển card đồ họa optimus của nvidia theo đó hệ thống sẽ được tích bốn ngàn ba trăm tám mươi chín phẩy một bốn tám mét khối hợp mặc định card đồ họa của intel và khi chạy một ứng dụng đòi hỏi card đồ họa rời nvidia geforce tám nghìn bẩy trăm tám năm chấm không không năm ba ba ki lô ca lo việc chuyển đổi là một trăm bẩy tám ki lô mét khối vô cùng dễ dàng bởi công nghệ optimus trước đây việc chuyển đổi giữa card đồ họa tích hợp geforce một ngàn tám trăm năm chín và card đồ họa rời geforce âm năm bẩy ngàn hai trăm mười một phẩy không năm ngàn hai trăm mười một đối với macbook pro cũ đòi hỏi bạn phải sử dụng một phần mềm chuyển đổi thường xuyên sau đó đăng xuất rồi đăng nhập trở lại card đồ họa geforce âm bẩy nghìn không trăm sáu bốn chấm không không sáu trăm bốn mươi tám xen ti mét khối có hai phiên bản âm chín ngàn hai hai chấm không không ba trăm năm chín mê ga oát và sáu ngàn hai trăm chín mươi bẩy chấm hai trăm lẻ một mi li lít trên ao không phải là một phần cứng hỗ trợ chơi game mạnh mẽ nhưng nó có khả năng chạy trên bất kỳ phòng chống nào hiện nay hơn thế nữa việc sử dụng card đồ họa rời cho các video hướng dẫn và chơi game sẽ không tiêu tốn pin khi bạn không sử dụng đến pin ở tất cả model macbook từ hai nghìn không trăm ba mươi sáu đến âm chín nghìn chín trăm hai bảy chấm năm không ba ki lô mét khối hiện tại đều không thể tháo rời được tuy nhiên apple cho biết với việc sử dụng chip của intel tuổi thọ pin sẽ được nâng cao hơn mặc dù đã bổ sung khe cắm thẻ sd nhưng macbook pro âm bẩy ngàn bốn trăm bẩy chín chấm một trăm lẻ ba mon mới lại không có đầu đĩa ba tám chấm không không tám mươi hai blu-ray cổng hdmi và kết nối âm hai mươi sáu phẩy tám ba không tấn trên xen ti mét khối\n",
            "macbook pro -8 ampe/mb tốt gỗ tốt cả nước sơn zing máy có vỏ nhôm sáng bóng đồng thời được tích hợp bộ vi xử lý core bhazox- tốc độ +14469298448 ghi ga héc của intel bộ nhớ ram 378 km2 ổ cứng 308 km và công nghệ chuyển đổi đồ họa tự động nvidia optimus so với model -5904.14 mm2/mw sử dụng vi ubl-i xử lý core 227.774 duo chiếc macbook pro 208 inch mới được tân trang lại dường như đã trở nên chắc chắn và mạnh mẽ hơn cũng như những model macbook pro cũ bộ khung liền khối là lớp nhôm sáng bóng và khá chắc chắn macbook pro sở hữu touchpad rộng để thực hiện các thao tác đa chạm thực tế điều khiển cảm ứng thực sự thiết yếu đối với macbook pro so với iphone và ipad về những thao tác đa chạm việc di chuyển bằng 60.626 ngón tay thực sự ấn tượng ví như bạn chỉ việc sang trái hoặc phải để chuyển các ứng dụng và lên trên để giấu tất cả cửa sổ đang hoạt động trong những năm vừa qua nhiều nhà sản xuất phòng chống đã bổ sung một vài kiểu chức năng đa chạm đối với touchpad mặc dù vậy hiện vẫn chưa có máy nào qua mặt được sản phẩm của apple phiên bản mới được nâng cấp còn có thêm 6.168.907 cải tiến nhỏ mà apple gọi là inertial scrolling cho phép người dùng thao tác nhanh chóng hơn trong các thư viện ảnh lớn những tài liệu dài hay những trang web quá khổ màn hình macbook pro 5067,880 mph/ft có độ phân giải giai đoạn 11 - 14 x 38.30 pixel tuy nhiên với sự phát 064784301368 triển của video hướng dẫn trực tuyến và nhu cầu chơi game người dùng vẫn muốn tăng thêm độ phân giải vì thế apple đưa ra thêm một lựa chọn là màn hình có độ phân giải 1213 x +72811880455 pixel nhưng bạn phải trả thêm 513 tấn cả macbook pro 099089487260 lẫn 827 dm đều được trang bị tính năng chuyển đổi đồ họa tự động ngày 6 và ngày 6 tháng 11 với -1671,12 ngày công nghệ chuyển card đồ họa optimus của nvidia theo đó hệ thống sẽ được tích 4389,148 m3 hợp mặc định card đồ họa của intel và khi chạy một ứng dụng đòi hỏi card đồ họa rời nvidia geforce 8785.00533 kcal việc chuyển đổi là 178 km3 vô cùng dễ dàng bởi công nghệ optimus trước đây việc chuyển đổi giữa card đồ họa tích hợp geforce 1859 và card đồ họa rời geforce -57.211,05211 đối với macbook pro cũ đòi hỏi bạn phải sử dụng một phần mềm chuyển đổi thường xuyên sau đó đăng xuất rồi đăng nhập trở lại card đồ họa geforce -7064.00648 cm3 có hai phiên bản -9022.00359 mw và 6297.201 ml/ounce không phải là một phần cứng hỗ trợ chơi game mạnh mẽ nhưng nó có khả năng chạy trên bất kỳ phòng chống nào hiện nay hơn thế nữa việc sử dụng card đồ họa rời cho các video hướng dẫn và chơi game sẽ không tiêu tốn pin khi bạn không sử dụng đến pin ở tất cả model macbook từ 2036 đến -9927.503 km3 hiện tại đều không thể tháo rời được tuy nhiên apple cho biết với việc sử dụng chip của intel tuổi thọ pin sẽ được nâng cao hơn mặc dù đã bổ sung khe cắm thẻ sd nhưng macbook pro -7479.103 mol mới lại không có đầu đĩa 38.0082 blu-ray cổng hdmi và kết nối -26,830 tấn/cc\n"
          ]
        }
      ],
      "source": [
        "print(dataset['valid'][2490][\"src\"])\n",
        "print(dataset['valid'][2490][\"tgt\"])\n",
        "# print(tokenizer(dataset['valid'][1][\"tgt\"]))"
      ]
    },
    {
      "cell_type": "markdown",
      "metadata": {
        "id": "9jK1zpUlY_xZ"
      },
      "source": [
        "## Data processing"
      ]
    },
    {
      "cell_type": "code",
      "execution_count": null,
      "metadata": {
        "id": "nw7f1yIVY_BP"
      },
      "outputs": [],
      "source": [
        "from transformers import Seq2SeqTrainingArguments, Seq2SeqTrainer, DataCollatorForSeq2Seq, PreTrainedTokenizerBase\n",
        "from dataclasses import dataclass\n",
        "from transformers.utils import PaddingStrategy\n",
        "from typing import Optional, Union, Any\n",
        "import numpy as np\n",
        "from datasets import load_metric\n",
        "import torch"
      ]
    },
    {
      "cell_type": "code",
      "execution_count": null,
      "metadata": {
        "id": "ct-BqKV2breU"
      },
      "outputs": [],
      "source": [
        "# The DataCollator is used for tokenization and padding to make batch input\n",
        "@dataclass\n",
        "class DataCollatorForInvertNormalization:\n",
        "    tokenizer: PreTrainedTokenizerBase\n",
        "    model: Optional[Any] = None\n",
        "    padding: Union[bool, str, PaddingStrategy] = \"max_length\" # https://huggingface.co/docs/transformers/main_classes/tokenizer\n",
        "    max_length: Optional[int] = 512\n",
        "    pad_to_multiple_of: Optional[int] = None\n",
        "    label_pad_token_id: int = -100\n",
        "    return_tensors: str = \"pt\"\n",
        "\n",
        "    def __call__(self, features, return_tensors=None):\n",
        "        features_tokenized = []\n",
        "        for feature in features:\n",
        "          src = feature['input_ids']\n",
        "          tgt = feature['labels']\n",
        "          if len(src) == 0 or len(tgt) == 0:\n",
        "              continue\n",
        "          # features_tokenized.append({'input_ids': tokenizer(src)[\"input_ids\"], \n",
        "          #                            'labels': tokenizer(tgt)[\"input_ids\"][1:]})\n",
        "          features_tokenized.append({'input_ids': tokenizer(src, truncation=True, max_length = self.max_length, padding = self.padding)[\"input_ids\"], \n",
        "                                     'labels': tokenizer(tgt, truncation=True, max_length = self.max_length, padding = self.padding)[\"input_ids\"][1:]})\n",
        "\n",
        "        features = features_tokenized\n",
        "        import numpy as np\n",
        "\n",
        "        if return_tensors is None:\n",
        "            return_tensors = self.return_tensors\n",
        "        labels = [feature[\"labels\"] for feature in features] if \"labels\" in features[0].keys() else None\n",
        "        # We have to pad the labels before calling `tokenizer.pad` as this method won't pad them and needs them of the\n",
        "        # same length to return tensors.\n",
        "        if labels is not None:\n",
        "            max_label_length = max(len(l) for l in labels)\n",
        "            if self.pad_to_multiple_of is not None:\n",
        "                max_label_length = (\n",
        "                    (max_label_length + self.pad_to_multiple_of - 1)\n",
        "                    // self.pad_to_multiple_of\n",
        "                    * self.pad_to_multiple_of\n",
        "                )\n",
        "\n",
        "            padding_side = self.tokenizer.padding_side\n",
        "            for feature in features:\n",
        "                remainder = [self.label_pad_token_id] * (max_label_length - len(feature[\"labels\"]))\n",
        "                \n",
        "                if isinstance(feature[\"labels\"], list):\n",
        "                    feature[\"labels\"] = (\n",
        "                        feature[\"labels\"] + remainder if padding_side == \"right\" else remainder + feature[\"labels\"]\n",
        "                    )\n",
        "                elif padding_side == \"right\":\n",
        "                    feature[\"labels\"] = np.concatenate([feature[\"labels\"], remainder]).astype(np.int64)\n",
        "                else:\n",
        "                    feature[\"labels\"] = np.concatenate([remainder, feature[\"labels\"]]).astype(np.int64)\n",
        "        \n",
        "        features = self.tokenizer.pad(\n",
        "            features,\n",
        "            padding=self.padding,\n",
        "            max_length=self.max_length,\n",
        "            pad_to_multiple_of=self.pad_to_multiple_of,\n",
        "            return_tensors=return_tensors,\n",
        "        )\n",
        "\n",
        "        # prepare decoder_input_ids\n",
        "        if (\n",
        "            labels is not None\n",
        "            and self.model is not None\n",
        "            and hasattr(self.model, \"prepare_decoder_input_ids_from_labels\")\n",
        "        ):\n",
        "            decoder_input_ids = self.model.prepare_decoder_input_ids_from_labels(labels=features[\"labels\"])\n",
        "            features[\"decoder_input_ids\"] = decoder_input_ids\n",
        "\n",
        "        return features"
      ]
    },
    {
      "cell_type": "code",
      "execution_count": null,
      "metadata": {
        "colab": {
          "base_uri": "https://localhost:8080/"
        },
        "id": "gTsvFvuUMs1u",
        "outputId": "73ec2e5a-e1a4-4fdc-e0d9-36f2d03b59f8",
        "scrolled": true
      },
      "outputs": [
        {
          "data": {
            "text/plain": [
              "DatasetDict({\n",
              "    valid: Dataset({\n",
              "        features: ['src', 'tgt'],\n",
              "        num_rows: 2500\n",
              "    })\n",
              "    test: Dataset({\n",
              "        features: ['src', 'tgt'],\n",
              "        num_rows: 2500\n",
              "    })\n",
              "    train: Dataset({\n",
              "        features: ['src', 'tgt'],\n",
              "        num_rows: 200000\n",
              "    })\n",
              "})"
            ]
          },
          "metadata": {},
          "output_type": "display_data"
        }
      ],
      "source": [
        "dataset"
      ]
    },
    {
      "cell_type": "code",
      "execution_count": null,
      "metadata": {
        "colab": {
          "base_uri": "https://localhost:8080/"
        },
        "id": "su38uzbXWbzz",
        "outputId": "d3ea4003-595d-487b-d210-10cd182deb19"
      },
      "outputs": [
        {
          "name": "stdout",
          "output_type": "stream",
          "text": [
            "DatasetDict({\n",
            "    valid: Dataset({\n",
            "        features: ['input_ids', 'labels'],\n",
            "        num_rows: 2500\n",
            "    })\n",
            "    test: Dataset({\n",
            "        features: ['input_ids', 'labels'],\n",
            "        num_rows: 2500\n",
            "    })\n",
            "    train: Dataset({\n",
            "        features: ['input_ids', 'labels'],\n",
            "        num_rows: 200000\n",
            "    })\n",
            "})\n"
          ]
        }
      ],
      "source": [
        "invert_norm_dataset = dataset.rename_column(\"src\", \"input_ids\").rename_column(\"tgt\", \"labels\")\n",
        "print(invert_norm_dataset)\n",
        "data_collator = DataCollatorForInvertNormalization(tokenizer, model)"
      ]
    },
    {
      "cell_type": "code",
      "execution_count": null,
      "metadata": {
        "colab": {
          "base_uri": "https://localhost:8080/"
        },
        "id": "18E8k_BvZY1d",
        "outputId": "627c9279-51d1-4ea7-824e-14fbd5785977"
      },
      "outputs": [],
      "source": [
        "# Test data collator\n",
        "data_collator([invert_norm_dataset['train'][item] for item in range(2)])"
      ]
    },
    {
      "cell_type": "markdown",
      "metadata": {
        "id": "hZVDDSDvm-iN"
      },
      "source": [
        "## Training"
      ]
    },
    {
      "cell_type": "code",
      "execution_count": null,
      "metadata": {
        "id": "_HNP8iPhoJbI"
      },
      "outputs": [],
      "source": [
        "# Define a function for evaluation\n",
        "def get_metric_compute_fn(tokenizer):\n",
        "    metric = load_metric(\"wer\")\n",
        "\n",
        "    def compute_metrics(eval_preds):\n",
        "        preds, labels = eval_preds\n",
        "        # In case the model returns more than the prediction logits\n",
        "        if isinstance(preds, tuple):\n",
        "            preds = preds[0]\n",
        "\n",
        "        decoded_preds = tokenizer.batch_decode(preds, skip_special_tokens=True)\n",
        "\n",
        "        # Replace -100s in the labels as we can't decode them\n",
        "        labels = np.where(labels != -100, labels, tokenizer.pad_token_id)\n",
        "        decoded_labels = tokenizer.batch_decode(labels, skip_special_tokens=True)\n",
        "\n",
        "        # Some simple post-processing\n",
        "        decoded_preds = [pred.strip() for pred in decoded_preds]\n",
        "        decoded_labels = [[label.strip()] for label in decoded_labels]\n",
        "\n",
        "        result = metric.compute(predictions=decoded_preds, references=decoded_labels)\n",
        "        return {\"wer\": result}\n",
        "\n",
        "    return compute_metrics"
      ]
    },
    {
      "cell_type": "code",
      "execution_count": null,
      "metadata": {
        "colab": {
          "base_uri": "https://localhost:8080/"
        },
        "id": "44MvTnolW7B1",
        "outputId": "a0d82ab6-421e-4b2e-d6ec-8e1f7db4876a",
        "scrolled": true
      },
      "outputs": [
        {
          "name": "stderr",
          "output_type": "stream",
          "text": [
            "Using the `WANDB_DISABLED` environment variable is deprecated and will be removed in v5. Use the --report_to flag to control the integrations used for logging result (for instance --report_to none).\n"
          ]
        }
      ],
      "source": [
        "import os\n",
        "os.environ[\"WANDB_DISABLED\"] = \"True\"\n",
        "\n",
        "num_epochs = 10\n",
        "checkpoint_path = \"./checkpoints\"\n",
        "batch_size = 8\n",
        "training_args = Seq2SeqTrainingArguments(\n",
        "    output_dir=checkpoint_path,\n",
        "    per_device_train_batch_size=batch_size,\n",
        "    per_device_eval_batch_size=batch_size,\n",
        "    evaluation_strategy=\"epoch\",\n",
        "    save_strategy=\"epoch\",\n",
        "    gradient_accumulation_steps=1,\n",
        "    predict_with_generate=True,\n",
        "    save_total_limit=2,\n",
        "    do_train=True,\n",
        "    do_eval=True,\n",
        "    logging_steps=10,\n",
        "    num_train_epochs = num_epochs,\n",
        "    warmup_ratio=1 / num_epochs,\n",
        "    logging_dir=os.path.join(checkpoint_path, 'log'),\n",
        "    overwrite_output_dir=True,\n",
        "    metric_for_best_model=\"wer\",\n",
        "    greater_is_better=True,\n",
        "    eval_accumulation_steps=10,\n",
        "    dataloader_num_workers=20,\n",
        ")\n",
        "\n",
        "# instantiate trainer\n",
        "trainer = Seq2SeqTrainer(\n",
        "    model=model,\n",
        "    args=training_args,\n",
        "    compute_metrics=get_metric_compute_fn(tokenizer),\n",
        "    train_dataset=invert_norm_dataset['train'], # .shard(200, 0),    # Only use subset of the dataset for a quick training. Remove shard for full training\n",
        "    eval_dataset=invert_norm_dataset['valid'], # .shard(100, 0), # Only use subset of the dataset for a quick training. Remove shard for full training\n",
        "    data_collator=data_collator,\n",
        "    tokenizer=tokenizer\n",
        ")"
      ]
    },
    {
      "cell_type": "code",
      "execution_count": null,
      "metadata": {
        "colab": {
          "base_uri": "https://localhost:8080/",
          "height": 560
        },
        "id": "9uGobE3EXKJd",
        "outputId": "13f5740b-4b30-4e95-b9e1-174cb9318146",
        "scrolled": true
      },
      "outputs": [],
      "source": [
        "trainer.train()"
      ]
    },
    {
      "cell_type": "markdown",
      "metadata": {
        "id": "Nthyvfev3sDE"
      },
      "source": [
        "## Decoding with beam"
      ]
    },
    {
      "cell_type": "code",
      "execution_count": null,
      "metadata": {},
      "outputs": [],
      "source": [
        "device = \"cuda:1\""
      ]
    },
    {
      "cell_type": "code",
      "execution_count": null,
      "metadata": {
        "colab": {
          "base_uri": "https://localhost:8080/"
        },
        "id": "RF8g-3d-YGG6",
        "outputId": "380f6083-bf6f-4fc4-f4e9-855ade504725"
      },
      "outputs": [
        {
          "data": {
            "text/plain": [
              "EncoderDecoderModel(\n",
              "  (encoder): RobertaModel(\n",
              "    (embeddings): RobertaEmbeddings(\n",
              "      (word_embeddings): Embedding(59993, 768, padding_idx=1)\n",
              "      (position_embeddings): Embedding(514, 768, padding_idx=1)\n",
              "      (token_type_embeddings): Embedding(1, 768)\n",
              "      (LayerNorm): LayerNorm((768,), eps=1e-05, elementwise_affine=True)\n",
              "      (dropout): Dropout(p=0.1, inplace=False)\n",
              "    )\n",
              "    (encoder): RobertaEncoder(\n",
              "      (layer): ModuleList(\n",
              "        (0): RobertaLayer(\n",
              "          (attention): RobertaAttention(\n",
              "            (self): RobertaSelfAttention(\n",
              "              (query): Linear(in_features=768, out_features=768, bias=True)\n",
              "              (key): Linear(in_features=768, out_features=768, bias=True)\n",
              "              (value): Linear(in_features=768, out_features=768, bias=True)\n",
              "              (dropout): Dropout(p=0.1, inplace=False)\n",
              "            )\n",
              "            (output): RobertaSelfOutput(\n",
              "              (dense): Linear(in_features=768, out_features=768, bias=True)\n",
              "              (LayerNorm): LayerNorm((768,), eps=1e-05, elementwise_affine=True)\n",
              "              (dropout): Dropout(p=0.1, inplace=False)\n",
              "            )\n",
              "          )\n",
              "          (intermediate): RobertaIntermediate(\n",
              "            (dense): Linear(in_features=768, out_features=1024, bias=True)\n",
              "            (intermediate_act_fn): GELUActivation()\n",
              "          )\n",
              "          (output): RobertaOutput(\n",
              "            (dense): Linear(in_features=1024, out_features=768, bias=True)\n",
              "            (LayerNorm): LayerNorm((768,), eps=1e-05, elementwise_affine=True)\n",
              "            (dropout): Dropout(p=0.1, inplace=False)\n",
              "          )\n",
              "        )\n",
              "        (1): RobertaLayer(\n",
              "          (attention): RobertaAttention(\n",
              "            (self): RobertaSelfAttention(\n",
              "              (query): Linear(in_features=768, out_features=768, bias=True)\n",
              "              (key): Linear(in_features=768, out_features=768, bias=True)\n",
              "              (value): Linear(in_features=768, out_features=768, bias=True)\n",
              "              (dropout): Dropout(p=0.1, inplace=False)\n",
              "            )\n",
              "            (output): RobertaSelfOutput(\n",
              "              (dense): Linear(in_features=768, out_features=768, bias=True)\n",
              "              (LayerNorm): LayerNorm((768,), eps=1e-05, elementwise_affine=True)\n",
              "              (dropout): Dropout(p=0.1, inplace=False)\n",
              "            )\n",
              "          )\n",
              "          (intermediate): RobertaIntermediate(\n",
              "            (dense): Linear(in_features=768, out_features=1024, bias=True)\n",
              "            (intermediate_act_fn): GELUActivation()\n",
              "          )\n",
              "          (output): RobertaOutput(\n",
              "            (dense): Linear(in_features=1024, out_features=768, bias=True)\n",
              "            (LayerNorm): LayerNorm((768,), eps=1e-05, elementwise_affine=True)\n",
              "            (dropout): Dropout(p=0.1, inplace=False)\n",
              "          )\n",
              "        )\n",
              "        (2): RobertaLayer(\n",
              "          (attention): RobertaAttention(\n",
              "            (self): RobertaSelfAttention(\n",
              "              (query): Linear(in_features=768, out_features=768, bias=True)\n",
              "              (key): Linear(in_features=768, out_features=768, bias=True)\n",
              "              (value): Linear(in_features=768, out_features=768, bias=True)\n",
              "              (dropout): Dropout(p=0.1, inplace=False)\n",
              "            )\n",
              "            (output): RobertaSelfOutput(\n",
              "              (dense): Linear(in_features=768, out_features=768, bias=True)\n",
              "              (LayerNorm): LayerNorm((768,), eps=1e-05, elementwise_affine=True)\n",
              "              (dropout): Dropout(p=0.1, inplace=False)\n",
              "            )\n",
              "          )\n",
              "          (intermediate): RobertaIntermediate(\n",
              "            (dense): Linear(in_features=768, out_features=1024, bias=True)\n",
              "            (intermediate_act_fn): GELUActivation()\n",
              "          )\n",
              "          (output): RobertaOutput(\n",
              "            (dense): Linear(in_features=1024, out_features=768, bias=True)\n",
              "            (LayerNorm): LayerNorm((768,), eps=1e-05, elementwise_affine=True)\n",
              "            (dropout): Dropout(p=0.1, inplace=False)\n",
              "          )\n",
              "        )\n",
              "        (3): RobertaLayer(\n",
              "          (attention): RobertaAttention(\n",
              "            (self): RobertaSelfAttention(\n",
              "              (query): Linear(in_features=768, out_features=768, bias=True)\n",
              "              (key): Linear(in_features=768, out_features=768, bias=True)\n",
              "              (value): Linear(in_features=768, out_features=768, bias=True)\n",
              "              (dropout): Dropout(p=0.1, inplace=False)\n",
              "            )\n",
              "            (output): RobertaSelfOutput(\n",
              "              (dense): Linear(in_features=768, out_features=768, bias=True)\n",
              "              (LayerNorm): LayerNorm((768,), eps=1e-05, elementwise_affine=True)\n",
              "              (dropout): Dropout(p=0.1, inplace=False)\n",
              "            )\n",
              "          )\n",
              "          (intermediate): RobertaIntermediate(\n",
              "            (dense): Linear(in_features=768, out_features=1024, bias=True)\n",
              "            (intermediate_act_fn): GELUActivation()\n",
              "          )\n",
              "          (output): RobertaOutput(\n",
              "            (dense): Linear(in_features=1024, out_features=768, bias=True)\n",
              "            (LayerNorm): LayerNorm((768,), eps=1e-05, elementwise_affine=True)\n",
              "            (dropout): Dropout(p=0.1, inplace=False)\n",
              "          )\n",
              "        )\n",
              "        (4): RobertaLayer(\n",
              "          (attention): RobertaAttention(\n",
              "            (self): RobertaSelfAttention(\n",
              "              (query): Linear(in_features=768, out_features=768, bias=True)\n",
              "              (key): Linear(in_features=768, out_features=768, bias=True)\n",
              "              (value): Linear(in_features=768, out_features=768, bias=True)\n",
              "              (dropout): Dropout(p=0.1, inplace=False)\n",
              "            )\n",
              "            (output): RobertaSelfOutput(\n",
              "              (dense): Linear(in_features=768, out_features=768, bias=True)\n",
              "              (LayerNorm): LayerNorm((768,), eps=1e-05, elementwise_affine=True)\n",
              "              (dropout): Dropout(p=0.1, inplace=False)\n",
              "            )\n",
              "          )\n",
              "          (intermediate): RobertaIntermediate(\n",
              "            (dense): Linear(in_features=768, out_features=1024, bias=True)\n",
              "            (intermediate_act_fn): GELUActivation()\n",
              "          )\n",
              "          (output): RobertaOutput(\n",
              "            (dense): Linear(in_features=1024, out_features=768, bias=True)\n",
              "            (LayerNorm): LayerNorm((768,), eps=1e-05, elementwise_affine=True)\n",
              "            (dropout): Dropout(p=0.1, inplace=False)\n",
              "          )\n",
              "        )\n",
              "        (5): RobertaLayer(\n",
              "          (attention): RobertaAttention(\n",
              "            (self): RobertaSelfAttention(\n",
              "              (query): Linear(in_features=768, out_features=768, bias=True)\n",
              "              (key): Linear(in_features=768, out_features=768, bias=True)\n",
              "              (value): Linear(in_features=768, out_features=768, bias=True)\n",
              "              (dropout): Dropout(p=0.1, inplace=False)\n",
              "            )\n",
              "            (output): RobertaSelfOutput(\n",
              "              (dense): Linear(in_features=768, out_features=768, bias=True)\n",
              "              (LayerNorm): LayerNorm((768,), eps=1e-05, elementwise_affine=True)\n",
              "              (dropout): Dropout(p=0.1, inplace=False)\n",
              "            )\n",
              "          )\n",
              "          (intermediate): RobertaIntermediate(\n",
              "            (dense): Linear(in_features=768, out_features=1024, bias=True)\n",
              "            (intermediate_act_fn): GELUActivation()\n",
              "          )\n",
              "          (output): RobertaOutput(\n",
              "            (dense): Linear(in_features=1024, out_features=768, bias=True)\n",
              "            (LayerNorm): LayerNorm((768,), eps=1e-05, elementwise_affine=True)\n",
              "            (dropout): Dropout(p=0.1, inplace=False)\n",
              "          )\n",
              "        )\n",
              "      )\n",
              "    )\n",
              "    (pooler): RobertaPooler(\n",
              "      (dense): Linear(in_features=768, out_features=768, bias=True)\n",
              "      (activation): Tanh()\n",
              "    )\n",
              "  )\n",
              "  (decoder): RobertaForCausalLM(\n",
              "    (roberta): RobertaModel(\n",
              "      (embeddings): RobertaEmbeddings(\n",
              "        (word_embeddings): Embedding(59993, 768, padding_idx=1)\n",
              "        (position_embeddings): Embedding(514, 768, padding_idx=1)\n",
              "        (token_type_embeddings): Embedding(1, 768)\n",
              "        (LayerNorm): LayerNorm((768,), eps=1e-05, elementwise_affine=True)\n",
              "        (dropout): Dropout(p=0.1, inplace=False)\n",
              "      )\n",
              "      (encoder): RobertaEncoder(\n",
              "        (layer): ModuleList(\n",
              "          (0): RobertaLayer(\n",
              "            (attention): RobertaAttention(\n",
              "              (self): RobertaSelfAttention(\n",
              "                (query): Linear(in_features=768, out_features=768, bias=True)\n",
              "                (key): Linear(in_features=768, out_features=768, bias=True)\n",
              "                (value): Linear(in_features=768, out_features=768, bias=True)\n",
              "                (dropout): Dropout(p=0.1, inplace=False)\n",
              "              )\n",
              "              (output): RobertaSelfOutput(\n",
              "                (dense): Linear(in_features=768, out_features=768, bias=True)\n",
              "                (LayerNorm): LayerNorm((768,), eps=1e-05, elementwise_affine=True)\n",
              "                (dropout): Dropout(p=0.1, inplace=False)\n",
              "              )\n",
              "            )\n",
              "            (crossattention): RobertaAttention(\n",
              "              (self): RobertaSelfAttention(\n",
              "                (query): Linear(in_features=768, out_features=768, bias=True)\n",
              "                (key): Linear(in_features=768, out_features=768, bias=True)\n",
              "                (value): Linear(in_features=768, out_features=768, bias=True)\n",
              "                (dropout): Dropout(p=0.1, inplace=False)\n",
              "              )\n",
              "              (output): RobertaSelfOutput(\n",
              "                (dense): Linear(in_features=768, out_features=768, bias=True)\n",
              "                (LayerNorm): LayerNorm((768,), eps=1e-05, elementwise_affine=True)\n",
              "                (dropout): Dropout(p=0.1, inplace=False)\n",
              "              )\n",
              "            )\n",
              "            (intermediate): RobertaIntermediate(\n",
              "              (dense): Linear(in_features=768, out_features=1024, bias=True)\n",
              "              (intermediate_act_fn): GELUActivation()\n",
              "            )\n",
              "            (output): RobertaOutput(\n",
              "              (dense): Linear(in_features=1024, out_features=768, bias=True)\n",
              "              (LayerNorm): LayerNorm((768,), eps=1e-05, elementwise_affine=True)\n",
              "              (dropout): Dropout(p=0.1, inplace=False)\n",
              "            )\n",
              "          )\n",
              "          (1): RobertaLayer(\n",
              "            (attention): RobertaAttention(\n",
              "              (self): RobertaSelfAttention(\n",
              "                (query): Linear(in_features=768, out_features=768, bias=True)\n",
              "                (key): Linear(in_features=768, out_features=768, bias=True)\n",
              "                (value): Linear(in_features=768, out_features=768, bias=True)\n",
              "                (dropout): Dropout(p=0.1, inplace=False)\n",
              "              )\n",
              "              (output): RobertaSelfOutput(\n",
              "                (dense): Linear(in_features=768, out_features=768, bias=True)\n",
              "                (LayerNorm): LayerNorm((768,), eps=1e-05, elementwise_affine=True)\n",
              "                (dropout): Dropout(p=0.1, inplace=False)\n",
              "              )\n",
              "            )\n",
              "            (crossattention): RobertaAttention(\n",
              "              (self): RobertaSelfAttention(\n",
              "                (query): Linear(in_features=768, out_features=768, bias=True)\n",
              "                (key): Linear(in_features=768, out_features=768, bias=True)\n",
              "                (value): Linear(in_features=768, out_features=768, bias=True)\n",
              "                (dropout): Dropout(p=0.1, inplace=False)\n",
              "              )\n",
              "              (output): RobertaSelfOutput(\n",
              "                (dense): Linear(in_features=768, out_features=768, bias=True)\n",
              "                (LayerNorm): LayerNorm((768,), eps=1e-05, elementwise_affine=True)\n",
              "                (dropout): Dropout(p=0.1, inplace=False)\n",
              "              )\n",
              "            )\n",
              "            (intermediate): RobertaIntermediate(\n",
              "              (dense): Linear(in_features=768, out_features=1024, bias=True)\n",
              "              (intermediate_act_fn): GELUActivation()\n",
              "            )\n",
              "            (output): RobertaOutput(\n",
              "              (dense): Linear(in_features=1024, out_features=768, bias=True)\n",
              "              (LayerNorm): LayerNorm((768,), eps=1e-05, elementwise_affine=True)\n",
              "              (dropout): Dropout(p=0.1, inplace=False)\n",
              "            )\n",
              "          )\n",
              "          (2): RobertaLayer(\n",
              "            (attention): RobertaAttention(\n",
              "              (self): RobertaSelfAttention(\n",
              "                (query): Linear(in_features=768, out_features=768, bias=True)\n",
              "                (key): Linear(in_features=768, out_features=768, bias=True)\n",
              "                (value): Linear(in_features=768, out_features=768, bias=True)\n",
              "                (dropout): Dropout(p=0.1, inplace=False)\n",
              "              )\n",
              "              (output): RobertaSelfOutput(\n",
              "                (dense): Linear(in_features=768, out_features=768, bias=True)\n",
              "                (LayerNorm): LayerNorm((768,), eps=1e-05, elementwise_affine=True)\n",
              "                (dropout): Dropout(p=0.1, inplace=False)\n",
              "              )\n",
              "            )\n",
              "            (crossattention): RobertaAttention(\n",
              "              (self): RobertaSelfAttention(\n",
              "                (query): Linear(in_features=768, out_features=768, bias=True)\n",
              "                (key): Linear(in_features=768, out_features=768, bias=True)\n",
              "                (value): Linear(in_features=768, out_features=768, bias=True)\n",
              "                (dropout): Dropout(p=0.1, inplace=False)\n",
              "              )\n",
              "              (output): RobertaSelfOutput(\n",
              "                (dense): Linear(in_features=768, out_features=768, bias=True)\n",
              "                (LayerNorm): LayerNorm((768,), eps=1e-05, elementwise_affine=True)\n",
              "                (dropout): Dropout(p=0.1, inplace=False)\n",
              "              )\n",
              "            )\n",
              "            (intermediate): RobertaIntermediate(\n",
              "              (dense): Linear(in_features=768, out_features=1024, bias=True)\n",
              "              (intermediate_act_fn): GELUActivation()\n",
              "            )\n",
              "            (output): RobertaOutput(\n",
              "              (dense): Linear(in_features=1024, out_features=768, bias=True)\n",
              "              (LayerNorm): LayerNorm((768,), eps=1e-05, elementwise_affine=True)\n",
              "              (dropout): Dropout(p=0.1, inplace=False)\n",
              "            )\n",
              "          )\n",
              "          (3): RobertaLayer(\n",
              "            (attention): RobertaAttention(\n",
              "              (self): RobertaSelfAttention(\n",
              "                (query): Linear(in_features=768, out_features=768, bias=True)\n",
              "                (key): Linear(in_features=768, out_features=768, bias=True)\n",
              "                (value): Linear(in_features=768, out_features=768, bias=True)\n",
              "                (dropout): Dropout(p=0.1, inplace=False)\n",
              "              )\n",
              "              (output): RobertaSelfOutput(\n",
              "                (dense): Linear(in_features=768, out_features=768, bias=True)\n",
              "                (LayerNorm): LayerNorm((768,), eps=1e-05, elementwise_affine=True)\n",
              "                (dropout): Dropout(p=0.1, inplace=False)\n",
              "              )\n",
              "            )\n",
              "            (crossattention): RobertaAttention(\n",
              "              (self): RobertaSelfAttention(\n",
              "                (query): Linear(in_features=768, out_features=768, bias=True)\n",
              "                (key): Linear(in_features=768, out_features=768, bias=True)\n",
              "                (value): Linear(in_features=768, out_features=768, bias=True)\n",
              "                (dropout): Dropout(p=0.1, inplace=False)\n",
              "              )\n",
              "              (output): RobertaSelfOutput(\n",
              "                (dense): Linear(in_features=768, out_features=768, bias=True)\n",
              "                (LayerNorm): LayerNorm((768,), eps=1e-05, elementwise_affine=True)\n",
              "                (dropout): Dropout(p=0.1, inplace=False)\n",
              "              )\n",
              "            )\n",
              "            (intermediate): RobertaIntermediate(\n",
              "              (dense): Linear(in_features=768, out_features=1024, bias=True)\n",
              "              (intermediate_act_fn): GELUActivation()\n",
              "            )\n",
              "            (output): RobertaOutput(\n",
              "              (dense): Linear(in_features=1024, out_features=768, bias=True)\n",
              "              (LayerNorm): LayerNorm((768,), eps=1e-05, elementwise_affine=True)\n",
              "              (dropout): Dropout(p=0.1, inplace=False)\n",
              "            )\n",
              "          )\n",
              "          (4): RobertaLayer(\n",
              "            (attention): RobertaAttention(\n",
              "              (self): RobertaSelfAttention(\n",
              "                (query): Linear(in_features=768, out_features=768, bias=True)\n",
              "                (key): Linear(in_features=768, out_features=768, bias=True)\n",
              "                (value): Linear(in_features=768, out_features=768, bias=True)\n",
              "                (dropout): Dropout(p=0.1, inplace=False)\n",
              "              )\n",
              "              (output): RobertaSelfOutput(\n",
              "                (dense): Linear(in_features=768, out_features=768, bias=True)\n",
              "                (LayerNorm): LayerNorm((768,), eps=1e-05, elementwise_affine=True)\n",
              "                (dropout): Dropout(p=0.1, inplace=False)\n",
              "              )\n",
              "            )\n",
              "            (crossattention): RobertaAttention(\n",
              "              (self): RobertaSelfAttention(\n",
              "                (query): Linear(in_features=768, out_features=768, bias=True)\n",
              "                (key): Linear(in_features=768, out_features=768, bias=True)\n",
              "                (value): Linear(in_features=768, out_features=768, bias=True)\n",
              "                (dropout): Dropout(p=0.1, inplace=False)\n",
              "              )\n",
              "              (output): RobertaSelfOutput(\n",
              "                (dense): Linear(in_features=768, out_features=768, bias=True)\n",
              "                (LayerNorm): LayerNorm((768,), eps=1e-05, elementwise_affine=True)\n",
              "                (dropout): Dropout(p=0.1, inplace=False)\n",
              "              )\n",
              "            )\n",
              "            (intermediate): RobertaIntermediate(\n",
              "              (dense): Linear(in_features=768, out_features=1024, bias=True)\n",
              "              (intermediate_act_fn): GELUActivation()\n",
              "            )\n",
              "            (output): RobertaOutput(\n",
              "              (dense): Linear(in_features=1024, out_features=768, bias=True)\n",
              "              (LayerNorm): LayerNorm((768,), eps=1e-05, elementwise_affine=True)\n",
              "              (dropout): Dropout(p=0.1, inplace=False)\n",
              "            )\n",
              "          )\n",
              "          (5): RobertaLayer(\n",
              "            (attention): RobertaAttention(\n",
              "              (self): RobertaSelfAttention(\n",
              "                (query): Linear(in_features=768, out_features=768, bias=True)\n",
              "                (key): Linear(in_features=768, out_features=768, bias=True)\n",
              "                (value): Linear(in_features=768, out_features=768, bias=True)\n",
              "                (dropout): Dropout(p=0.1, inplace=False)\n",
              "              )\n",
              "              (output): RobertaSelfOutput(\n",
              "                (dense): Linear(in_features=768, out_features=768, bias=True)\n",
              "                (LayerNorm): LayerNorm((768,), eps=1e-05, elementwise_affine=True)\n",
              "                (dropout): Dropout(p=0.1, inplace=False)\n",
              "              )\n",
              "            )\n",
              "            (crossattention): RobertaAttention(\n",
              "              (self): RobertaSelfAttention(\n",
              "                (query): Linear(in_features=768, out_features=768, bias=True)\n",
              "                (key): Linear(in_features=768, out_features=768, bias=True)\n",
              "                (value): Linear(in_features=768, out_features=768, bias=True)\n",
              "                (dropout): Dropout(p=0.1, inplace=False)\n",
              "              )\n",
              "              (output): RobertaSelfOutput(\n",
              "                (dense): Linear(in_features=768, out_features=768, bias=True)\n",
              "                (LayerNorm): LayerNorm((768,), eps=1e-05, elementwise_affine=True)\n",
              "                (dropout): Dropout(p=0.1, inplace=False)\n",
              "              )\n",
              "            )\n",
              "            (intermediate): RobertaIntermediate(\n",
              "              (dense): Linear(in_features=768, out_features=1024, bias=True)\n",
              "              (intermediate_act_fn): GELUActivation()\n",
              "            )\n",
              "            (output): RobertaOutput(\n",
              "              (dense): Linear(in_features=1024, out_features=768, bias=True)\n",
              "              (LayerNorm): LayerNorm((768,), eps=1e-05, elementwise_affine=True)\n",
              "              (dropout): Dropout(p=0.1, inplace=False)\n",
              "            )\n",
              "          )\n",
              "        )\n",
              "      )\n",
              "    )\n",
              "    (lm_head): RobertaLMHead(\n",
              "      (dense): Linear(in_features=768, out_features=768, bias=True)\n",
              "      (layer_norm): LayerNorm((768,), eps=1e-05, elementwise_affine=True)\n",
              "      (decoder): Linear(in_features=768, out_features=59993, bias=True)\n",
              "    )\n",
              "  )\n",
              ")"
            ]
          },
          "metadata": {},
          "output_type": "display_data"
        }
      ],
      "source": [
        "trained_model = model.from_pretrained('./checkpoints/checkpoint-225000')\n",
        "trained_model.to(device)"
      ]
    },
    {
      "cell_type": "code",
      "execution_count": null,
      "metadata": {},
      "outputs": [
        {
          "data": {
            "text/plain": [
              "['đầu mùa giải vừa qua bùi tiến dũng chính thức khoác màu áo của câu lạc bộ hà nội với bản hợp đồng kéo dài năm triệu ba mươi mùa giải dù trước đó anh được huấn luyện viên park hang seo sử dụng ở cả sáu triệu hai trăm linh hai ngàn tám mươi ba trận đấu của bốn trăm bốn không không không ngang đê gi chéo dê việt nam trong khuôn khổ vòng loại rờ đê i sờ ngang ba nghìn hai mươi bốn trăm sáu mươi châu á chín mươi mốt chủ tịch câu lạc bộ hà nội ông nguyễn quốc hội cũng lên tiếng phủ nhận tin mười hai rưỡi đồn tiến dũng sẽ giải nghệ ông cho biết tiến dũng vừa cùng đồng đội tham dự afc cup anh vẫn khỏe mạnh và luyện tập bình thường',\n",
              " 'tay vợt ba trăm mười một nghìn hai trăm mười ba lần vô địch wimbledon bị trộm chém petra kvitova đã bị tổn thương gân và dây thần kinh tay trái sau vụ bị tấn công bằng dao tại nhà riêng tay vợt nữ sẽ phải nghỉ thi đấu ít nhất tám triệu bốn trăm hai mươi nghìn hai trăm hai mươi hai tháng để điều trị chấn thương này petra kvitova là tay vợt từng hai nghìn bẩy trăm linh bốn lần vô địch wimbledon đã bị tấn công tại nhà riêng đêm năm bảy trăm chín mươi sáu theo giờ địa phương một tên trộm đã đột nhập vào nhà của tay vợt người séc tại prostejov sau khi phát hiện và chống trả kvitova đã bị thương ở tay trái tay thuận khi thi đấu của cô vết dao cắt phạm vào hai nghìn bốn trăm linh sáu ngón tay ở bàn tay trái của kvitova cô đã phải chịu phẫu thuật suốt gần cộng một năm tám tám chín năm năm bảy chín không một tiếng để nối phần dây thần kinh bị ảnh hưởng cũng như chữa trị phần tổn thương dây chằng và theo ban huấn luyện của cô thì ca phẫu thuật đã thành công theo người phát ngôn chính thức của tay vợt người séc thì theo các bác sĩ với sức trẻ của kvitova dù vết thương có nghiêm trọng vẫn có thể phục hồi để thi đấu trở lại trước khi phẫu thuật kvitova hai mươi ba giờ đã kịp cảm ơn sự quan tâm của người hâm mộ trước tai nạn của mình tôi đã bị tấn công nhưng may mắn vẫn còn sống sót petra kvitova ảnh eurosport căn hộ tại prostejov của kvitova cách khu vực chín trăm mười sáu ki lô mét khối tập luyện của cô và nhiều tay vợt nổi tiêng của séc như tomas berdych ở prague khoảng âm tám ca ra trên ki lo oát giờ cô là một tay vợt nòng cốt trong đội hình cộng hòa séc vô địch fed cup năm ngoái lần thứ bốn ngàn chín liên tiếp trong lịch sử của đội quần vợt nữ nước này như vậy kvitova ba giờ sẽ vắng mặt tại australia mở rộng diễn ra vào tháng sau tay vợt hạng ba triệu bẩy sáu nghìn hai trăm mười sáu thế giới đến nay đã có được tổng cộng âm hai ba phẩy không không bảy chín danh hiệu trong đó đáng kể nhất có ba triệu bốn lần vô địch đánh đơn tại wimbledon hai nghìn hai trăm tám mươi ba và bẩy trên hai chín trong sự nghiệp của mình tay vợt thuận trái lọt vào top bẩy triệu năm trăm sáu tư nghìn tám tư tay vợt nữ wta chín tháng năm một nghìn chín trăm ba mươi năm với thứ hạng cao nhất trong sự nghiệp là vị ngày mồng bốn ngày mười bẩy tháng ba trí thứ mười hai tới hai bẩy thời gian gần đây kvitova đang có dấu hiệu cải thiện phong độ với danh hiệu wuhan mở rộng hồi mùng sáu đến ngày mười tháng năm và wta elite hồi ngày hai tám một hai một bảy bốn sáu ngày mười hai và ngày hai mươi tay vợt số sáu triệu chín trăm ba mươi ngàn hai trăm năm mươi thế giới monica seles cũng từng bị một người đức hâm mộ đối thủ của cô là steffi graf tấn công bằng dao vụ tấn công bên ngoài sân đấu đã buộc seles tám giờ hai tám phút ba chín giây phải nghỉ thi đấu suốt âm sáu ba phẩy không không ba hai năm và đã lỡ mất thời kỳ đỉnh cao phong độ rất nhiều lời chia sẻ được gửi tới petra kvitova nữ hoàng quần vợt martina navratilova từng giành bốn ba grand slam năm nay đã một ngàn năm trăm mười hai tuổi chia sẻ trên twitter mong ta vợt người séc sớm hồi phục trên trang twitter chính thức của giải đấu australia mở rộng và trên các trang mạng xã hội khác các tay vợt nữ như victoria azarenka caroline wozniacki marion bartoli agnieszka radwanska caroline garcia đều bày tỏ sự quan tâm i hát gi o ép xoẹt chia sẻ với kvitova',\n",
              " 'cơ quan cảnh sát điều tra công an quận ninh kiều thành phố cần thơ cho biết đang thụ lý vụ án lừa đảo chiếm đoạt tài sản đối với đối tượng hồ hoàng vũ sinh năm bốn trăm năm chín nghìn chín trăm mười bốn ở quận bình thủy thành phố cần thơ theo nguồn tin từ công an quận ninh kều cho biết với biệt danh hoàng nhất thiên vũ đối tượng này lên mạng xã hội zalo làm quen với nhiều cô gái trẻ có xe mô tô để thực hiện hành vi lừa đảo cụ thể vào ngày hai mươi tám tháng tám vũ làm quen với một cô gái tên k t ở quận bình thủy sau vài lần nói chuyện vũ chủ động hẹn t đi uống cà phê tâm sự vũ nói không có xe nhờ t đến đón bốn giờ bảy phút ba mươi bốn giây t điều khiển môtô đến quận bình thủy đón vũ và đưa xe cho vũ chở xuống một nhà sách ở quận ninh kiều uống nước vào uống nước cùng t được một lúc vũ viện cớ đi vệ sinh rồi xuống bãi xe lấy xe gắn máy của t tẩu thoát dễ dàng đợi không thấy vũ trở lại t gọi điện và nhắn tin yêu cầu trả lại xe nhưng vũ đã bặt vô âm tính biết đã bị lừa tháng hai một nghìn chín trăm chín mươi nhăm t sử dụng tên zalo khác chủ động làm quen nhắn tin hẹn vũ uống nước cũng với chiêu bài cũ lấy lý do không có xe để nhờ bạn gái đến đón khi vũ ra điểm hẹn thì bị t và một số người thân đi cùng vây bắt giao cho công an xử lý trong quá trình điều tra công an quận ninh kiều còn nhận được đơn tố cáo của không bị hại khác đã bị vũ lừa đảo với thủ đoạn tương tự']"
            ]
          },
          "metadata": {},
          "output_type": "display_data"
        }
      ],
      "source": [
        "dataset['test'][:3][\"src\"]"
      ]
    },
    {
      "cell_type": "code",
      "execution_count": null,
      "metadata": {
        "colab": {
          "base_uri": "https://localhost:8080/"
        },
        "id": "JsOKcMFW06mt",
        "outputId": "a7a0286e-ed56-49c8-a36a-b84e4c986fea"
      },
      "outputs": [
        {
          "name": "stdout",
          "output_type": "stream",
          "text": [
            "Input:\n",
            " video lớp học khiêu vũ đặc biệt ở huế\n",
            "Output:\n",
            "----------------------------------------------------------------------------------------------------\n",
            "Prediction:\n",
            "video lớp học khiêu vũ đặc biệt ở huế\n"
          ]
        }
      ],
      "source": [
        "sentence = dataset['test'][2334][\"src\"]\n",
        "\n",
        "# encode context the generation is conditioned on\n",
        "input_ids = tokenizer.encode(sentence, return_tensors='pt', truncation=True, max_length=512, padding=\"max_length\").to(\"cuda:1\")\n",
        "\n",
        "# generate text until the output length (which includes the context length) reaches 512\n",
        "beam_outputs = trained_model.generate(\n",
        "    input_ids, \n",
        "    max_length=512, \n",
        "    num_beams=5,\n",
        "    no_repeat_ngram_size=2, \n",
        "    num_return_sequences=1, \n",
        "    early_stopping=True\n",
        ")\n",
        "print(\"Input:\\n\", sentence)\n",
        "\n",
        "print(\"Output:\\n\" + 100 * '-')\n",
        "for i, beam_output in enumerate(beam_outputs):\n",
        "  output_pieces = tokenizer.convert_ids_to_tokens(beam_output.cpu().numpy().tolist())\n",
        "  output_text = tokenizer.sp_model.decode(output_pieces).replace(\"<pad>\",\"\")\n",
        "  print(\"Prediction:\\n{}\".format(output_text))"
      ]
    },
    {
      "cell_type": "markdown",
      "metadata": {},
      "source": [
        "## Create output"
      ]
    },
    {
      "cell_type": "code",
      "execution_count": null,
      "metadata": {},
      "outputs": [],
      "source": [
        "with open(\"output.txt\", \"w\", encoding=\"utf-8\") as f:\n",
        "    for data in dataset[\"test\"]:\n",
        "        input_ids = tokenizer.encode(data[\"src\"], return_tensors='pt', truncation=True, max_length=512, padding=\"max_length\").to(device)\n",
        "        beam_outputs = trained_model.generate(\n",
        "            input_ids, \n",
        "            max_length=512, \n",
        "            num_beams=5,\n",
        "            no_repeat_ngram_size=2, \n",
        "            num_return_sequences=1, \n",
        "            early_stopping=True\n",
        "        )\n",
        "        output_pieces = tokenizer.convert_ids_to_tokens(beam_outputs[0].numpy().tolist())\n",
        "        output_text = tokenizer.sp_model.decode(output_pieces).replace(\"<pad>\",\"\")\n",
        "        f.write(output_text)\n",
        "        f.write(\"\\n\")"
      ]
    },
    {
      "cell_type": "code",
      "execution_count": null,
      "metadata": {
        "id": "ASPTnEWbC_GB"
      },
      "outputs": [],
      "source": []
    }
  ],
  "metadata": {
    "colab": {
      "collapsed_sections": [],
      "name": "VietAI-spoken_norm_assignment.ipynb",
      "provenance": []
    },
    "kernelspec": {
      "display_name": "Python 3.8.13 ('trinhpham')",
      "language": "python",
      "name": "python3"
    },
    "language_info": {
      "codemirror_mode": {
        "name": "ipython",
        "version": 3
      },
      "file_extension": ".py",
      "mimetype": "text/x-python",
      "name": "python",
      "nbconvert_exporter": "python",
      "pygments_lexer": "ipython3",
      "version": "3.8.13"
    },
    "vscode": {
      "interpreter": {
        "hash": "622335126a993551d0bd285b07df40c1f9cae14eaed824010b0d7104ec0418b4"
      }
    },
    "widgets": {
      "application/vnd.jupyter.widget-state+json": {
        "1462007ea3b94877aceddbfaa05dd6e0": {
          "model_module": "@jupyter-widgets/controls",
          "model_module_version": "1.5.0",
          "model_name": "DescriptionStyleModel",
          "state": {
            "_model_module": "@jupyter-widgets/controls",
            "_model_module_version": "1.5.0",
            "_model_name": "DescriptionStyleModel",
            "_view_count": null,
            "_view_module": "@jupyter-widgets/base",
            "_view_module_version": "1.2.0",
            "_view_name": "StyleView",
            "description_width": ""
          }
        },
        "16f711aef2054a4fb8675040841d3cef": {
          "model_module": "@jupyter-widgets/controls",
          "model_module_version": "1.5.0",
          "model_name": "FloatProgressModel",
          "state": {
            "_dom_classes": [],
            "_model_module": "@jupyter-widgets/controls",
            "_model_module_version": "1.5.0",
            "_model_name": "FloatProgressModel",
            "_view_count": null,
            "_view_module": "@jupyter-widgets/controls",
            "_view_module_version": "1.5.0",
            "_view_name": "ProgressView",
            "bar_style": "success",
            "description": "",
            "description_tooltip": null,
            "layout": "IPY_MODEL_5765e12c51994ef88efe5a46317d2365",
            "max": 3,
            "min": 0,
            "orientation": "horizontal",
            "style": "IPY_MODEL_4e20a569411642a6927fe9fc9c078965",
            "value": 3
          }
        },
        "3152ce24c08a4c79a5733ff8aa8f670f": {
          "model_module": "@jupyter-widgets/base",
          "model_module_version": "1.2.0",
          "model_name": "LayoutModel",
          "state": {
            "_model_module": "@jupyter-widgets/base",
            "_model_module_version": "1.2.0",
            "_model_name": "LayoutModel",
            "_view_count": null,
            "_view_module": "@jupyter-widgets/base",
            "_view_module_version": "1.2.0",
            "_view_name": "LayoutView",
            "align_content": null,
            "align_items": null,
            "align_self": null,
            "border": null,
            "bottom": null,
            "display": null,
            "flex": null,
            "flex_flow": null,
            "grid_area": null,
            "grid_auto_columns": null,
            "grid_auto_flow": null,
            "grid_auto_rows": null,
            "grid_column": null,
            "grid_gap": null,
            "grid_row": null,
            "grid_template_areas": null,
            "grid_template_columns": null,
            "grid_template_rows": null,
            "height": null,
            "justify_content": null,
            "justify_items": null,
            "left": null,
            "margin": null,
            "max_height": null,
            "max_width": null,
            "min_height": null,
            "min_width": null,
            "object_fit": null,
            "object_position": null,
            "order": null,
            "overflow": null,
            "overflow_x": null,
            "overflow_y": null,
            "padding": null,
            "right": null,
            "top": null,
            "visibility": null,
            "width": null
          }
        },
        "4c3ec50b899d485397679d2410c94e17": {
          "model_module": "@jupyter-widgets/controls",
          "model_module_version": "1.5.0",
          "model_name": "DescriptionStyleModel",
          "state": {
            "_model_module": "@jupyter-widgets/controls",
            "_model_module_version": "1.5.0",
            "_model_name": "DescriptionStyleModel",
            "_view_count": null,
            "_view_module": "@jupyter-widgets/base",
            "_view_module_version": "1.2.0",
            "_view_name": "StyleView",
            "description_width": ""
          }
        },
        "4e20a569411642a6927fe9fc9c078965": {
          "model_module": "@jupyter-widgets/controls",
          "model_module_version": "1.5.0",
          "model_name": "ProgressStyleModel",
          "state": {
            "_model_module": "@jupyter-widgets/controls",
            "_model_module_version": "1.5.0",
            "_model_name": "ProgressStyleModel",
            "_view_count": null,
            "_view_module": "@jupyter-widgets/base",
            "_view_module_version": "1.2.0",
            "_view_name": "StyleView",
            "bar_color": null,
            "description_width": ""
          }
        },
        "5765e12c51994ef88efe5a46317d2365": {
          "model_module": "@jupyter-widgets/base",
          "model_module_version": "1.2.0",
          "model_name": "LayoutModel",
          "state": {
            "_model_module": "@jupyter-widgets/base",
            "_model_module_version": "1.2.0",
            "_model_name": "LayoutModel",
            "_view_count": null,
            "_view_module": "@jupyter-widgets/base",
            "_view_module_version": "1.2.0",
            "_view_name": "LayoutView",
            "align_content": null,
            "align_items": null,
            "align_self": null,
            "border": null,
            "bottom": null,
            "display": null,
            "flex": null,
            "flex_flow": null,
            "grid_area": null,
            "grid_auto_columns": null,
            "grid_auto_flow": null,
            "grid_auto_rows": null,
            "grid_column": null,
            "grid_gap": null,
            "grid_row": null,
            "grid_template_areas": null,
            "grid_template_columns": null,
            "grid_template_rows": null,
            "height": null,
            "justify_content": null,
            "justify_items": null,
            "left": null,
            "margin": null,
            "max_height": null,
            "max_width": null,
            "min_height": null,
            "min_width": null,
            "object_fit": null,
            "object_position": null,
            "order": null,
            "overflow": null,
            "overflow_x": null,
            "overflow_y": null,
            "padding": null,
            "right": null,
            "top": null,
            "visibility": null,
            "width": null
          }
        },
        "884817851e094390aeadaf13f2d757f1": {
          "model_module": "@jupyter-widgets/controls",
          "model_module_version": "1.5.0",
          "model_name": "HBoxModel",
          "state": {
            "_dom_classes": [],
            "_model_module": "@jupyter-widgets/controls",
            "_model_module_version": "1.5.0",
            "_model_name": "HBoxModel",
            "_view_count": null,
            "_view_module": "@jupyter-widgets/controls",
            "_view_module_version": "1.5.0",
            "_view_name": "HBoxView",
            "box_style": "",
            "children": [
              "IPY_MODEL_cebf4feeac664afdb088353424ec000b",
              "IPY_MODEL_16f711aef2054a4fb8675040841d3cef",
              "IPY_MODEL_c9e0e4c4ac124c16a182f90ab832bc66"
            ],
            "layout": "IPY_MODEL_3152ce24c08a4c79a5733ff8aa8f670f"
          }
        },
        "c7d3ea09981f44d6a9f9d727e5171ff4": {
          "model_module": "@jupyter-widgets/base",
          "model_module_version": "1.2.0",
          "model_name": "LayoutModel",
          "state": {
            "_model_module": "@jupyter-widgets/base",
            "_model_module_version": "1.2.0",
            "_model_name": "LayoutModel",
            "_view_count": null,
            "_view_module": "@jupyter-widgets/base",
            "_view_module_version": "1.2.0",
            "_view_name": "LayoutView",
            "align_content": null,
            "align_items": null,
            "align_self": null,
            "border": null,
            "bottom": null,
            "display": null,
            "flex": null,
            "flex_flow": null,
            "grid_area": null,
            "grid_auto_columns": null,
            "grid_auto_flow": null,
            "grid_auto_rows": null,
            "grid_column": null,
            "grid_gap": null,
            "grid_row": null,
            "grid_template_areas": null,
            "grid_template_columns": null,
            "grid_template_rows": null,
            "height": null,
            "justify_content": null,
            "justify_items": null,
            "left": null,
            "margin": null,
            "max_height": null,
            "max_width": null,
            "min_height": null,
            "min_width": null,
            "object_fit": null,
            "object_position": null,
            "order": null,
            "overflow": null,
            "overflow_x": null,
            "overflow_y": null,
            "padding": null,
            "right": null,
            "top": null,
            "visibility": null,
            "width": null
          }
        },
        "c9e0e4c4ac124c16a182f90ab832bc66": {
          "model_module": "@jupyter-widgets/controls",
          "model_module_version": "1.5.0",
          "model_name": "HTMLModel",
          "state": {
            "_dom_classes": [],
            "_model_module": "@jupyter-widgets/controls",
            "_model_module_version": "1.5.0",
            "_model_name": "HTMLModel",
            "_view_count": null,
            "_view_module": "@jupyter-widgets/controls",
            "_view_module_version": "1.5.0",
            "_view_name": "HTMLView",
            "description": "",
            "description_tooltip": null,
            "layout": "IPY_MODEL_f5003a97602643a1905f51c9ccd1adbd",
            "placeholder": "​",
            "style": "IPY_MODEL_1462007ea3b94877aceddbfaa05dd6e0",
            "value": " 3/3 [00:00&lt;00:00,  2.29it/s]"
          }
        },
        "cebf4feeac664afdb088353424ec000b": {
          "model_module": "@jupyter-widgets/controls",
          "model_module_version": "1.5.0",
          "model_name": "HTMLModel",
          "state": {
            "_dom_classes": [],
            "_model_module": "@jupyter-widgets/controls",
            "_model_module_version": "1.5.0",
            "_model_name": "HTMLModel",
            "_view_count": null,
            "_view_module": "@jupyter-widgets/controls",
            "_view_module_version": "1.5.0",
            "_view_name": "HTMLView",
            "description": "",
            "description_tooltip": null,
            "layout": "IPY_MODEL_c7d3ea09981f44d6a9f9d727e5171ff4",
            "placeholder": "​",
            "style": "IPY_MODEL_4c3ec50b899d485397679d2410c94e17",
            "value": "100%"
          }
        },
        "f5003a97602643a1905f51c9ccd1adbd": {
          "model_module": "@jupyter-widgets/base",
          "model_module_version": "1.2.0",
          "model_name": "LayoutModel",
          "state": {
            "_model_module": "@jupyter-widgets/base",
            "_model_module_version": "1.2.0",
            "_model_name": "LayoutModel",
            "_view_count": null,
            "_view_module": "@jupyter-widgets/base",
            "_view_module_version": "1.2.0",
            "_view_name": "LayoutView",
            "align_content": null,
            "align_items": null,
            "align_self": null,
            "border": null,
            "bottom": null,
            "display": null,
            "flex": null,
            "flex_flow": null,
            "grid_area": null,
            "grid_auto_columns": null,
            "grid_auto_flow": null,
            "grid_auto_rows": null,
            "grid_column": null,
            "grid_gap": null,
            "grid_row": null,
            "grid_template_areas": null,
            "grid_template_columns": null,
            "grid_template_rows": null,
            "height": null,
            "justify_content": null,
            "justify_items": null,
            "left": null,
            "margin": null,
            "max_height": null,
            "max_width": null,
            "min_height": null,
            "min_width": null,
            "object_fit": null,
            "object_position": null,
            "order": null,
            "overflow": null,
            "overflow_x": null,
            "overflow_y": null,
            "padding": null,
            "right": null,
            "top": null,
            "visibility": null,
            "width": null
          }
        }
      }
    }
  },
  "nbformat": 4,
  "nbformat_minor": 0
}
